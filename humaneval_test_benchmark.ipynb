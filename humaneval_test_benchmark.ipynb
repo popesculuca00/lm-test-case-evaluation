{
 "cells": [
  {
   "cell_type": "code",
   "execution_count": 1,
   "metadata": {},
   "outputs": [],
   "source": [
    "import os\n",
    "\n",
    "import numpy as np\n",
    "import pandas as pd\n",
    "from tqdm.notebook import tqdm\n",
    "import multiprocess\n",
    "\n",
    "from datasets import load_dataset\n",
    "\n",
    "from pytest_runner import run_pytest\n",
    "from agent import CodeAgent\n",
    "from client_interface.client import ClientInterface"
   ]
  },
  {
   "cell_type": "code",
   "execution_count": 2,
   "metadata": {},
   "outputs": [
    {
     "data": {
      "text/plain": [
       "Dataset({\n",
       "    features: ['task_id', 'text', 'code', 'test_list', 'test_setup_code', 'challenge_test_list'],\n",
       "    num_rows: 974\n",
       "})"
      ]
     },
     "execution_count": 2,
     "metadata": {},
     "output_type": "execute_result"
    }
   ],
   "source": [
    "dataset = load_dataset(\"mbpp\", split=\"all\")\n",
    "dataset"
   ]
  },
  {
   "cell_type": "code",
   "execution_count": 3,
   "metadata": {},
   "outputs": [],
   "source": [
    "# dataset.to_csv(\"benchmark_data.csv\", index=False)\n",
    "# pd.read_csv(\"benchmark_data.csv\", index_col=0)"
   ]
  },
  {
   "cell_type": "code",
   "execution_count": null,
   "metadata": {},
   "outputs": [],
   "source": []
  },
  {
   "cell_type": "code",
   "execution_count": 10,
   "metadata": {},
   "outputs": [
    {
     "data": {
      "application/vnd.jupyter.widget-view+json": {
       "model_id": "db5d62bebefb4cd2958d625f31052358",
       "version_major": 2,
       "version_minor": 0
      },
      "text/plain": [
       "  0%|          | 0/5 [00:00<?, ?it/s]"
      ]
     },
     "metadata": {},
     "output_type": "display_data"
    }
   ],
   "source": [
    "#TODO: generate the initial responses first, then the feedbacks\n",
    "\n",
    "class HumanEvalTestBenchmark:\n",
    "    def __init__(self, dataset=dataset, tmp_folder=\"tmp\", max_retries=8, max_feedback=1):\n",
    "        self.dataset = dataset[\"code\"][:5]#load_dataset(\"mbpp\", split=\"all\")[\"code\"]\n",
    "        self.tmp_folder = tmp_folder\n",
    "        self.max_retries = max_retries\n",
    "        self.max_feedback = max_feedback\n",
    "        # self.client = ClientInterface()\n",
    "    \n",
    "    def _run_test(self, source_code, num_retries=5, max_feedback=1): # 3, 3\n",
    "        from agent import CodeAgent\n",
    "        from client_interface.client import ClientInterface\n",
    "        from pytest_runner import run_pytest\n",
    "        import pandas as pd\n",
    "\n",
    "        result_passes = lambda result:\\\n",
    "                (result[\"coverage\"] >= 90 and\\\n",
    "                (not result[\"failed_assertions\"]) and\\\n",
    "                (not result[\"stderr\"]))\n",
    "        \n",
    "        has_errors = lambda result:\\\n",
    "                (result[\"failed_assertions\"]) or\\\n",
    "                (not result[\"stderr\"])\n",
    "\n",
    "        all_results = []\n",
    "        model = CodeAgent(client=ClientInterface())#self.client)\n",
    "\n",
    "        initial_code = model.generate_response(source_code, n=num_retries)\n",
    "\n",
    "\n",
    "        return source_code, initial_code\n",
    "\n",
    "\n",
    "    def run_evaluation(self):\n",
    "        runs = []\n",
    "\n",
    "        with multiprocess.Pool(processes=15) as pool: # multiprocess.cpu_count()\n",
    "            runs = list(tqdm(pool.imap(self._run_test, self.dataset), total=len(self.dataset)))\n",
    "\n",
    "\n",
    "        # identical = [self.dataset[0] for _ in range(4)]\n",
    "        # for i in tqdm(identical):\n",
    "        #     runs.append(self._run_test(i))\n",
    "        # runs = self._run_test(self.dataset[0])\n",
    "\n",
    "\n",
    "        return runs\n",
    "\n",
    "\n",
    "\n",
    "evaluator = HumanEvalTestBenchmark()\n",
    "ret = evaluator.run_evaluation()"
   ]
  },
  {
   "cell_type": "code",
   "execution_count": 12,
   "metadata": {},
   "outputs": [
    {
     "name": "stdout",
     "output_type": "stream",
     "text": [
      "class Pair(object): \n",
      "\tdef __init__(self, a, b): \n",
      "\t\tself.a = a \n",
      "\t\tself.b = b \n",
      "def max_chain_length(arr, n): \n",
      "\tmax = 0\n",
      "\tmcl = [1 for i in range(n)] \n",
      "\tfor i in range(1, n): \n",
      "\t\tfor j in range(0, i): \n",
      "\t\t\tif (arr[i].a > arr[j].b and\n",
      "\t\t\t\tmcl[i] < mcl[j] + 1): \n",
      "\t\t\t\tmcl[i] = mcl[j] + 1\n",
      "\tfor i in range(n): \n",
      "\t\tif (max < mcl[i]): \n",
      "\t\t\tmax = mcl[i] \n",
      "\treturn max\n"
     ]
    },
    {
     "data": {
      "text/plain": [
       "[\"import pytest\\nimport os\\nimport sys\\nsys.path.insert(0, os.path.abspath(os.path.join(os.path.dirname(__file__), '..')))\\nfrom source import Pair, max_chain_length\\n\\ndef test_max_chain_length():\\n    arr = [Pair(1,2), Pair(2,3), Pair(3,4), Pair(1,5)]\\n    assert max_chain_length(arr, len(arr)) == 3\\n\\ndef test_max_chain_length_empty_input():\\n    arr = []\\n    assert max_chain_length(arr, len(arr)) == 0\\n\\ndef test_max_chain_length_single_element():\\n    arr = [Pair(1,2)]\\n    assert max_chain_length(arr, len(arr)) == 1\",\n",
       " 'import source\\n\\ndef test_max_chain_length():\\n    arr = [source.Pair(2, 3), source.Pair(5, 1), source.Pair(3, 4)]\\n    n = 3\\n    assert source.max_chain_length(arr, n) == 3',\n",
       " 'import source\\nimport pytest\\n\\ndef test_max_chain_length():\\n    arr = [source.Pair(1, 5), source.Pair(2, 7), source.Pair(3, 10)]\\n    n = len(arr)\\n    assert source.max_chain_length(arr, n) == 2\\n\\ndef test_max_chain_length_empty():\\n    arr = []\\n    n = len(arr)\\n    assert source.max_chain_length(arr, n) == 0\\n\\ndef test_max_chain_length_single():\\n    arr = [source.Pair(1, 5)]\\n    n = len(arr)\\n    assert source.max_chain_length(arr, n) == 1',\n",
       " 'import pytest\\nimport os\\nimport sys\\nsys.path.append(os.path.dirname(os.path.abspath(__file__)) + \"/..\")\\nfrom source import max_chain_length, Pair\\n\\ndef test_max_chain_length():\\n    arr = [Pair(1, 3), Pair(2, 1), Pair(3, 2)]\\n    assert(max_chain_length(arr, 3) == 2)\\n\\ndef test_max_chain_length_with_empty_list():\\n    arr = []\\n    assert(max_chain_length(arr, 0) == 0)',\n",
       " '# source.py\\nclass Pair(object): \\n\\tdef __init__(self, a, b): \\n\\t\\tself.a = a \\n\\t\\tself.b = b \\n\\ndef max_chain_length(arr, n): \\n\\tmax = 0\\n\\tmcl = [1 for i in range(n)] \\n\\tfor i in range(1, n): \\n\\t\\tfor j in range(0, i): \\n\\t\\t\\tif (arr[i].a > arr[j].b and\\n\\t\\t\\t\\tmcl[i] < mcl[j] + 1): \\n\\t\\t\\t\\tmcl[i] = mcl[j] + 1\\n\\tfor i in range(n): \\n\\t\\tif (max < mcl[i]): \\n\\t\\t\\tmax = mcl[i] \\n\\treturn max']"
      ]
     },
     "execution_count": 12,
     "metadata": {},
     "output_type": "execute_result"
    }
   ],
   "source": [
    "source_code, initial_code = ret[0]\n",
    "\n",
    "print(source_code)\n",
    "initial_code"
   ]
  },
  {
   "cell_type": "code",
   "execution_count": null,
   "metadata": {},
   "outputs": [],
   "source": [
    "\n",
    "result_passes = lambda result:\\\n",
    "        (result[\"coverage\"] >= 90 and\\\n",
    "        (not result[\"failed_assertions\"]) and\\\n",
    "        (not result[\"stderr\"]))\n",
    "\n",
    "has_errors = lambda result:\\\n",
    "        (result[\"failed_assertions\"]) or\\\n",
    "        (not result[\"stderr\"])\n",
    "\n",
    "all_results = []"
   ]
  },
  {
   "cell_type": "code",
   "execution_count": null,
   "metadata": {},
   "outputs": [],
   "source": []
  },
  {
   "cell_type": "code",
   "execution_count": null,
   "metadata": {},
   "outputs": [],
   "source": []
  },
  {
   "cell_type": "code",
   "execution_count": null,
   "metadata": {},
   "outputs": [],
   "source": []
  },
  {
   "cell_type": "code",
   "execution_count": null,
   "metadata": {},
   "outputs": [],
   "source": []
  },
  {
   "cell_type": "code",
   "execution_count": null,
   "metadata": {},
   "outputs": [],
   "source": []
  },
  {
   "cell_type": "code",
   "execution_count": 2,
   "metadata": {},
   "outputs": [
    {
     "ename": "RuntimeError",
     "evalue": "asyncio.run() cannot be called from a running event loop",
     "output_type": "error",
     "traceback": [
      "\u001b[1;31m---------------------------------------------------------------------------\u001b[0m",
      "\u001b[1;31mRuntimeError\u001b[0m                              Traceback (most recent call last)",
      "Cell \u001b[1;32mIn[2], line 1\u001b[0m\n\u001b[1;32m----> 1\u001b[0m x \u001b[38;5;241m=\u001b[39m ClientInterface()\n",
      "File \u001b[1;32mc:\\Master\\Disertatie\\evaluation\\client_interface\\client.py:31\u001b[0m, in \u001b[0;36mClientInterface.__init__\u001b[1;34m(self, inference_server, api_key)\u001b[0m\n\u001b[0;32m     23\u001b[0m \u001b[38;5;28;01mif\u001b[39;00m (\n\u001b[0;32m     24\u001b[0m     inference_server \u001b[38;5;129;01mis\u001b[39;00m \u001b[38;5;129;01mnot\u001b[39;00m \u001b[38;5;28;01mNone\u001b[39;00m\n\u001b[0;32m     25\u001b[0m     \u001b[38;5;129;01mand\u001b[39;00m inference_server \u001b[38;5;129;01mnot\u001b[39;00m \u001b[38;5;129;01min\u001b[39;00m \u001b[38;5;28mself\u001b[39m\u001b[38;5;241m.\u001b[39minference_server_types\n\u001b[0;32m     26\u001b[0m ):\n\u001b[0;32m     27\u001b[0m     \u001b[38;5;28;01mraise\u001b[39;00m \u001b[38;5;167;01mAttributeError\u001b[39;00m(\n\u001b[0;32m     28\u001b[0m         \u001b[38;5;124mf\u001b[39m\u001b[38;5;124m\"\u001b[39m\u001b[38;5;124mServer mult be in `\u001b[39m\u001b[38;5;132;01m{\u001b[39;00m\u001b[38;5;28mself\u001b[39m\u001b[38;5;241m.\u001b[39minference_server_types\u001b[38;5;132;01m}\u001b[39;00m\u001b[38;5;124m`, got `\u001b[39m\u001b[38;5;132;01m{\u001b[39;00minference_server\u001b[38;5;132;01m}\u001b[39;00m\u001b[38;5;124m`\u001b[39m\u001b[38;5;124m\"\u001b[39m\n\u001b[0;32m     29\u001b[0m     )\n\u001b[1;32m---> 31\u001b[0m \u001b[38;5;28mself\u001b[39m\u001b[38;5;241m.\u001b[39mmodel, \u001b[38;5;28mself\u001b[39m\u001b[38;5;241m.\u001b[39minference_server \u001b[38;5;241m=\u001b[39m detect_server_config()\n\u001b[0;32m     32\u001b[0m \u001b[38;5;28mself\u001b[39m\u001b[38;5;241m.\u001b[39mapi_key \u001b[38;5;241m=\u001b[39m api_key\n\u001b[0;32m     33\u001b[0m \u001b[38;5;28mself\u001b[39m\u001b[38;5;241m.\u001b[39m_create_client()\n",
      "File \u001b[1;32mc:\\Master\\Disertatie\\evaluation\\client_interface\\client_utils.py:43\u001b[0m, in \u001b[0;36mdetect_server_config\u001b[1;34m()\u001b[0m\n\u001b[0;32m     42\u001b[0m \u001b[38;5;28;01mdef\u001b[39;00m \u001b[38;5;21mdetect_server_config\u001b[39m():\n\u001b[1;32m---> 43\u001b[0m     results \u001b[38;5;241m=\u001b[39m asyncio\u001b[38;5;241m.\u001b[39mrun(_detect_inference_server())\n\u001b[0;32m     44\u001b[0m     \u001b[38;5;28;01mfor\u001b[39;00m result \u001b[38;5;129;01min\u001b[39;00m results:\n\u001b[0;32m     45\u001b[0m         \u001b[38;5;28;01mif\u001b[39;00m result[\u001b[38;5;241m0\u001b[39m] \u001b[38;5;129;01mor\u001b[39;00m result[\u001b[38;5;241m1\u001b[39m]:\n",
      "File \u001b[1;32mc:\\ProgramData\\anaconda3\\Lib\\asyncio\\runners.py:186\u001b[0m, in \u001b[0;36mrun\u001b[1;34m(main, debug)\u001b[0m\n\u001b[0;32m    161\u001b[0m \u001b[38;5;250m\u001b[39m\u001b[38;5;124;03m\"\"\"Execute the coroutine and return the result.\u001b[39;00m\n\u001b[0;32m    162\u001b[0m \n\u001b[0;32m    163\u001b[0m \u001b[38;5;124;03mThis function runs the passed coroutine, taking care of\u001b[39;00m\n\u001b[1;32m   (...)\u001b[0m\n\u001b[0;32m    182\u001b[0m \u001b[38;5;124;03m    asyncio.run(main())\u001b[39;00m\n\u001b[0;32m    183\u001b[0m \u001b[38;5;124;03m\"\"\"\u001b[39;00m\n\u001b[0;32m    184\u001b[0m \u001b[38;5;28;01mif\u001b[39;00m events\u001b[38;5;241m.\u001b[39m_get_running_loop() \u001b[38;5;129;01mis\u001b[39;00m \u001b[38;5;129;01mnot\u001b[39;00m \u001b[38;5;28;01mNone\u001b[39;00m:\n\u001b[0;32m    185\u001b[0m     \u001b[38;5;66;03m# fail fast with short traceback\u001b[39;00m\n\u001b[1;32m--> 186\u001b[0m     \u001b[38;5;28;01mraise\u001b[39;00m \u001b[38;5;167;01mRuntimeError\u001b[39;00m(\n\u001b[0;32m    187\u001b[0m         \u001b[38;5;124m\"\u001b[39m\u001b[38;5;124masyncio.run() cannot be called from a running event loop\u001b[39m\u001b[38;5;124m\"\u001b[39m)\n\u001b[0;32m    189\u001b[0m \u001b[38;5;28;01mwith\u001b[39;00m Runner(debug\u001b[38;5;241m=\u001b[39mdebug) \u001b[38;5;28;01mas\u001b[39;00m runner:\n\u001b[0;32m    190\u001b[0m     \u001b[38;5;28;01mreturn\u001b[39;00m runner\u001b[38;5;241m.\u001b[39mrun(main)\n",
      "\u001b[1;31mRuntimeError\u001b[0m: asyncio.run() cannot be called from a running event loop"
     ]
    }
   ],
   "source": [
    "x = ClientInterface()"
   ]
  },
  {
   "cell_type": "code",
   "execution_count": 10,
   "metadata": {},
   "outputs": [],
   "source": [
    "#TODO: generate the initial responses first, then the feedbacks\n",
    "\n",
    "class HumanEvalTestBenchmark:\n",
    "    def __init__(self, dataset=dataset, tmp_folder=\"tmp\", max_retries=3, max_feedback=3):\n",
    "        self.dataset = dataset[\"code\"][:16]#load_dataset(\"mbpp\", split=\"all\")[\"code\"]\n",
    "        self.tmp_folder = tmp_folder\n",
    "        self.max_retries = max_retries\n",
    "        self.max_feedback = max_feedback\n",
    "    \n",
    "    def _run_test(self, prompt, num_retries=1, max_feedback=1): # 3, 3\n",
    "        from agent import CodeAgent\n",
    "        from pytest_runner import run_pytest\n",
    "        import pandas as pd\n",
    "        source_code = prompt\n",
    "\n",
    "        result_passes = lambda result:\\\n",
    "                (result[\"coverage\"] >= 90 and\\\n",
    "                (not result[\"failed_assertions\"]) and\\\n",
    "                (not result[\"stderr\"]))\n",
    "        \n",
    "        has_errors = lambda result:\\\n",
    "                (result[\"failed_assertions\"]) or\\\n",
    "                (not result[\"stderr\"])\n",
    "\n",
    "        all_results = []\n",
    "        for run_id in range(num_retries):\n",
    "            prompt = source_code\n",
    "            cnt_run = {\"initial_code\": prompt}\n",
    "            model = CodeAgent()\n",
    "            for idx_num in range(max_feedback):\n",
    "                pytest_code, full_response = model.generate_response(prompt).values()\n",
    "                pytest_code = \"from source import *\\n\" + pytest_code\n",
    "                result = run_pytest(source_code, pytest_code, random_subdir=True, clean_test=True) #TODO: SET TO TRUE TRUE FOR FULL RUN\n",
    "                all_results.append([run_id, idx_num, result[\"coverage\"], len(result[\"fails\"]), result[\"stdout\"], result[\"stderr\"], pytest_code, source_code])\n",
    "                # cnt_run[i] = {\n",
    "                #     \"generated_code\" : pytest_code,\n",
    "                #     \"pytest_result\" : result,\n",
    "                #     \"prompt\" : prompt\n",
    "                # }\n",
    "\n",
    "                if result_passes(result) and idx_num ==0:\n",
    "                    all_results = pd.DataFrame(all_results)\n",
    "                    all_results.columns = [\"run_id\", \"idx_num\", \"coverage\", \"num_fails\", \"stdout\", \"stderr\", \"pytest_code\", \"source_code\"]\n",
    "                    return all_results\n",
    "\n",
    "                if result_passes(result):\n",
    "                    break\n",
    "                \n",
    "                if has_errors:\n",
    "                    # prompt = f\"ASSERTION ERRORS:\\n{result['fails']}\\nSTDERR:\\n{result['stderr']}\"\n",
    "                    prompt = f\"STDOUT:\\n{result['stdout']}\\nSTDERR:\\n{result['stderr']}\"\n",
    "                else:\n",
    "                    prompt = f\"Coverage is {result['coverage']}, try to reach 100% coverage.\\nREPORT:\\n{result['stdout']}\"\n",
    "        \n",
    "            cnt_run[\"model_hist\"] = model.history\n",
    "            # all_results.append(cnt_run)\n",
    "\n",
    "        all_results = pd.DataFrame(all_results)\n",
    "        all_results.columns = [\"run_id\", \"idx_num\", \"coverage\", \"num_fails\", \"stdout\", \"stderr\", \"pytest_code\", \"source_code\"]\n",
    "\n",
    "        return all_results\n",
    "\n",
    "\n",
    "    def run_evaluation(self, model: CodeAgent):\n",
    "        # self.model = model\n",
    "        runs = []\n",
    "\n",
    "        # with multiprocess.Pool(processes=multiprocess.cpu_count()) as pool: # TODO: LOCK NUMBER\n",
    "        #     runs = list(tqdm(pool.imap(self._run_test, self.dataset), total=len(self.dataset)))\n",
    "\n",
    "\n",
    "        identical = [self.dataset[0] for _ in range(4)]\n",
    "        for i in tqdm(identical):\n",
    "            runs.append(self._run_test(i))\n",
    "        # runs = self._run_test(self.dataset[0])\n",
    "\n",
    "\n",
    "        return runs\n",
    "\n",
    "\n",
    "\n",
    "evaluator = HumanEvalTestBenchmark()\n"
   ]
  },
  {
   "cell_type": "code",
   "execution_count": 11,
   "metadata": {},
   "outputs": [
    {
     "data": {
      "application/vnd.jupyter.widget-view+json": {
       "model_id": "85b9d461d4d4414383d00afd2a9f9e91",
       "version_major": 2,
       "version_minor": 0
      },
      "text/plain": [
       "  0%|          | 0/4 [00:00<?, ?it/s]"
      ]
     },
     "metadata": {},
     "output_type": "display_data"
    }
   ],
   "source": [
    "res = evaluator.run_evaluation(model=CodeAgent)"
   ]
  },
  {
   "cell_type": "code",
   "execution_count": 17,
   "metadata": {},
   "outputs": [
    {
     "name": "stdout",
     "output_type": "stream",
     "text": [
      "class Pair(object): \n",
      "\tdef __init__(self, a, b): \n",
      "\t\tself.a = a \n",
      "\t\tself.b = b \n",
      "def max_chain_length(arr, n): \n",
      "\tmax = 0\n",
      "\tmcl = [1 for i in range(n)] \n",
      "\tfor i in range(1, n): \n",
      "\t\tfor j in range(0, i): \n",
      "\t\t\tif (arr[i].a > arr[j].b and\n",
      "\t\t\t\tmcl[i] < mcl[j] + 1): \n",
      "\t\t\t\tmcl[i] = mcl[j] + 1\n",
      "\tfor i in range(n): \n",
      "\t\tif (max < mcl[i]): \n",
      "\t\t\tmax = mcl[i] \n",
      "\treturn max\n"
     ]
    }
   ],
   "source": [
    "print(res[0].source_code.values[0])"
   ]
  },
  {
   "cell_type": "code",
   "execution_count": 20,
   "metadata": {},
   "outputs": [
    {
     "name": "stdout",
     "output_type": "stream",
     "text": [
      "class Pair(object): \n",
      "\tdef __init__(self, a, b): \n",
      "\t\tself.a = a \n",
      "\t\tself.b = b \n",
      "def max_chain_length(arr, n): \n",
      "\tmax = 0\n",
      "\tmcl = [1 for i in range(n)] \n",
      "\tfor i in range(1, n): \n",
      "\t\tfor j in range(0, i): \n",
      "\t\t\tif (arr[i].a > arr[j].b and\n",
      "\t\t\t\tmcl[i] < mcl[j] + 1): \n",
      "\t\t\t\tmcl[i] = mcl[j] + 1\n",
      "\tfor i in range(n): \n",
      "\t\tif (max < mcl[i]): \n",
      "\t\t\tmax = mcl[i] \n",
      "\treturn max\n"
     ]
    }
   ],
   "source": [
    "print(res[3].source_code.values[0])"
   ]
  },
  {
   "cell_type": "code",
   "execution_count": 9,
   "metadata": {},
   "outputs": [
    {
     "data": {
      "text/html": [
       "<div>\n",
       "<style scoped>\n",
       "    .dataframe tbody tr th:only-of-type {\n",
       "        vertical-align: middle;\n",
       "    }\n",
       "\n",
       "    .dataframe tbody tr th {\n",
       "        vertical-align: top;\n",
       "    }\n",
       "\n",
       "    .dataframe thead th {\n",
       "        text-align: right;\n",
       "    }\n",
       "</style>\n",
       "<table border=\"1\" class=\"dataframe\">\n",
       "  <thead>\n",
       "    <tr style=\"text-align: right;\">\n",
       "      <th></th>\n",
       "      <th>run_id</th>\n",
       "      <th>idx_num</th>\n",
       "      <th>coverage</th>\n",
       "      <th>num_fails</th>\n",
       "      <th>stdout</th>\n",
       "      <th>stderr</th>\n",
       "      <th>pytest_code</th>\n",
       "      <th>source_code</th>\n",
       "    </tr>\n",
       "  </thead>\n",
       "  <tbody>\n",
       "    <tr>\n",
       "      <th>0</th>\n",
       "      <td>0</td>\n",
       "      <td>0</td>\n",
       "      <td>20.0</td>\n",
       "      <td>0</td>\n",
       "      <td>============================= test session sta...</td>\n",
       "      <td></td>\n",
       "      <td>from source import *\\ndef max_chain_length(arr...</td>\n",
       "      <td>class Pair(object): \\r\\n\\tdef __init__(self, a...</td>\n",
       "    </tr>\n",
       "    <tr>\n",
       "      <th>1</th>\n",
       "      <td>0</td>\n",
       "      <td>1</td>\n",
       "      <td>100.0</td>\n",
       "      <td>73</td>\n",
       "      <td>============================= test session sta...</td>\n",
       "      <td></td>\n",
       "      <td>from source import *\\nimport pytest\\r\\nfrom so...</td>\n",
       "      <td>class Pair(object): \\r\\n\\tdef __init__(self, a...</td>\n",
       "    </tr>\n",
       "    <tr>\n",
       "      <th>2</th>\n",
       "      <td>0</td>\n",
       "      <td>2</td>\n",
       "      <td>20.0</td>\n",
       "      <td>0</td>\n",
       "      <td>============================= test session sta...</td>\n",
       "      <td></td>\n",
       "      <td>from source import *\\ndef max_chain_length(arr...</td>\n",
       "      <td>class Pair(object): \\r\\n\\tdef __init__(self, a...</td>\n",
       "    </tr>\n",
       "    <tr>\n",
       "      <th>3</th>\n",
       "      <td>1</td>\n",
       "      <td>0</td>\n",
       "      <td>20.0</td>\n",
       "      <td>0</td>\n",
       "      <td>============================= test session sta...</td>\n",
       "      <td></td>\n",
       "      <td>from source import *\\nclass Pair(object): \\n  ...</td>\n",
       "      <td>class Pair(object): \\r\\n\\tdef __init__(self, a...</td>\n",
       "    </tr>\n",
       "    <tr>\n",
       "      <th>4</th>\n",
       "      <td>1</td>\n",
       "      <td>1</td>\n",
       "      <td>100.0</td>\n",
       "      <td>0</td>\n",
       "      <td>============================= test session sta...</td>\n",
       "      <td></td>\n",
       "      <td>from source import *\\ndef test_max_chain_lengt...</td>\n",
       "      <td>class Pair(object): \\r\\n\\tdef __init__(self, a...</td>\n",
       "    </tr>\n",
       "    <tr>\n",
       "      <th>5</th>\n",
       "      <td>2</td>\n",
       "      <td>0</td>\n",
       "      <td>100.0</td>\n",
       "      <td>0</td>\n",
       "      <td>============================= test session sta...</td>\n",
       "      <td></td>\n",
       "      <td>from source import *\\nimport pytest\\nfrom sour...</td>\n",
       "      <td>class Pair(object): \\r\\n\\tdef __init__(self, a...</td>\n",
       "    </tr>\n",
       "  </tbody>\n",
       "</table>\n",
       "</div>"
      ],
      "text/plain": [
       "   run_id  idx_num  coverage  num_fails  \\\n",
       "0       0        0      20.0          0   \n",
       "1       0        1     100.0         73   \n",
       "2       0        2      20.0          0   \n",
       "3       1        0      20.0          0   \n",
       "4       1        1     100.0          0   \n",
       "5       2        0     100.0          0   \n",
       "\n",
       "                                              stdout stderr  \\\n",
       "0  ============================= test session sta...          \n",
       "1  ============================= test session sta...          \n",
       "2  ============================= test session sta...          \n",
       "3  ============================= test session sta...          \n",
       "4  ============================= test session sta...          \n",
       "5  ============================= test session sta...          \n",
       "\n",
       "                                         pytest_code  \\\n",
       "0  from source import *\\ndef max_chain_length(arr...   \n",
       "1  from source import *\\nimport pytest\\r\\nfrom so...   \n",
       "2  from source import *\\ndef max_chain_length(arr...   \n",
       "3  from source import *\\nclass Pair(object): \\n  ...   \n",
       "4  from source import *\\ndef test_max_chain_lengt...   \n",
       "5  from source import *\\nimport pytest\\nfrom sour...   \n",
       "\n",
       "                                         source_code  \n",
       "0  class Pair(object): \\r\\n\\tdef __init__(self, a...  \n",
       "1  class Pair(object): \\r\\n\\tdef __init__(self, a...  \n",
       "2  class Pair(object): \\r\\n\\tdef __init__(self, a...  \n",
       "3  class Pair(object): \\r\\n\\tdef __init__(self, a...  \n",
       "4  class Pair(object): \\r\\n\\tdef __init__(self, a...  \n",
       "5  class Pair(object): \\r\\n\\tdef __init__(self, a...  "
      ]
     },
     "execution_count": 9,
     "metadata": {},
     "output_type": "execute_result"
    }
   ],
   "source": [
    "df = res[0]\n",
    "df"
   ]
  },
  {
   "cell_type": "code",
   "execution_count": 8,
   "metadata": {},
   "outputs": [
    {
     "data": {
      "text/html": [
       "<div>\n",
       "<style scoped>\n",
       "    .dataframe tbody tr th:only-of-type {\n",
       "        vertical-align: middle;\n",
       "    }\n",
       "\n",
       "    .dataframe tbody tr th {\n",
       "        vertical-align: top;\n",
       "    }\n",
       "\n",
       "    .dataframe thead th {\n",
       "        text-align: right;\n",
       "    }\n",
       "</style>\n",
       "<table border=\"1\" class=\"dataframe\">\n",
       "  <thead>\n",
       "    <tr style=\"text-align: right;\">\n",
       "      <th></th>\n",
       "      <th>run_id</th>\n",
       "      <th>idx_num</th>\n",
       "      <th>coverage</th>\n",
       "      <th>num_fails</th>\n",
       "      <th>stdout</th>\n",
       "      <th>stderr</th>\n",
       "      <th>pytest_code</th>\n",
       "      <th>source_code</th>\n",
       "    </tr>\n",
       "  </thead>\n",
       "  <tbody>\n",
       "    <tr>\n",
       "      <th>0</th>\n",
       "      <td>0</td>\n",
       "      <td>0</td>\n",
       "      <td>100.0</td>\n",
       "      <td>138</td>\n",
       "      <td>============================= test session sta...</td>\n",
       "      <td></td>\n",
       "      <td>from source import *\\nimport pytest\\nfrom sour...</td>\n",
       "      <td>class Pair(object): \\r\\n\\tdef __init__(self, a...</td>\n",
       "    </tr>\n",
       "    <tr>\n",
       "      <th>1</th>\n",
       "      <td>0</td>\n",
       "      <td>1</td>\n",
       "      <td>100.0</td>\n",
       "      <td>138</td>\n",
       "      <td>============================= test session sta...</td>\n",
       "      <td></td>\n",
       "      <td>from source import *\\nimport pytest\\nfrom sour...</td>\n",
       "      <td>class Pair(object): \\r\\n\\tdef __init__(self, a...</td>\n",
       "    </tr>\n",
       "    <tr>\n",
       "      <th>2</th>\n",
       "      <td>0</td>\n",
       "      <td>2</td>\n",
       "      <td>100.0</td>\n",
       "      <td>138</td>\n",
       "      <td>============================= test session sta...</td>\n",
       "      <td></td>\n",
       "      <td>from source import *\\nimport pytest\\nfrom sour...</td>\n",
       "      <td>class Pair(object): \\r\\n\\tdef __init__(self, a...</td>\n",
       "    </tr>\n",
       "  </tbody>\n",
       "</table>\n",
       "</div>"
      ],
      "text/plain": [
       "   run_id  idx_num  coverage  num_fails  \\\n",
       "0       0        0     100.0        138   \n",
       "1       0        1     100.0        138   \n",
       "2       0        2     100.0        138   \n",
       "\n",
       "                                              stdout stderr  \\\n",
       "0  ============================= test session sta...          \n",
       "1  ============================= test session sta...          \n",
       "2  ============================= test session sta...          \n",
       "\n",
       "                                         pytest_code  \\\n",
       "0  from source import *\\nimport pytest\\nfrom sour...   \n",
       "1  from source import *\\nimport pytest\\nfrom sour...   \n",
       "2  from source import *\\nimport pytest\\nfrom sour...   \n",
       "\n",
       "                                         source_code  \n",
       "0  class Pair(object): \\r\\n\\tdef __init__(self, a...  \n",
       "1  class Pair(object): \\r\\n\\tdef __init__(self, a...  \n",
       "2  class Pair(object): \\r\\n\\tdef __init__(self, a...  "
      ]
     },
     "execution_count": 8,
     "metadata": {},
     "output_type": "execute_result"
    }
   ],
   "source": [
    "df = df[df.run_id == 0]\n",
    "df"
   ]
  },
  {
   "cell_type": "code",
   "execution_count": 9,
   "metadata": {},
   "outputs": [
    {
     "data": {
      "text/plain": [
       "0    True\n",
       "1    True\n",
       "2    True\n",
       "Name: pytest_code, dtype: bool"
      ]
     },
     "execution_count": 9,
     "metadata": {},
     "output_type": "execute_result"
    }
   ],
   "source": [
    "df.pytest_code == df.pytest_code[0]"
   ]
  },
  {
   "cell_type": "code",
   "execution_count": null,
   "metadata": {},
   "outputs": [],
   "source": []
  },
  {
   "cell_type": "code",
   "execution_count": null,
   "metadata": {},
   "outputs": [],
   "source": []
  },
  {
   "cell_type": "code",
   "execution_count": 3,
   "metadata": {},
   "outputs": [],
   "source": [
    "from huggingface_hub import InferenceClient\n"
   ]
  },
  {
   "cell_type": "code",
   "execution_count": 4,
   "metadata": {},
   "outputs": [
    {
     "data": {
      "text/plain": [
       "\"\\nTo create a snake game, you will need to use a loop to move the snake's head and body. You can use a variable to keep track of the snake's position and update it as the snake moves. You can also use a variable to keep track of the snake's length and update it as the snake moves. Here is an example code snippet:\\n\\n```python\\nimport turtle\\n\\ndef move_snake(x, y, length):\\n    if x < 0:\\n        x = -x\\n    if y < 0:\\n        y = -y\\n    if x > 0:\\n        x = 0\\n    if y > 0:\\n        y = 0\\n    if x == 0:\\n        x = length\\n    if y == 0:\\n        y = length\\n    turtle.forward(x)\\n    turtle.left(y)\\n    turtle.right(x)\\n    turtle.backward(y)\\n    turtle.right(x)\\n    turtle.left(y)\\n    turtle.forward(x)\\n    turtle.left(y)\\n    turtle.right(x)\\n    turtle.backward(y)\\n    turtle.left(x)\\n    turtle.forward(x)\\n    turtle.left(y)\\n    turtle.right(x)\\n    turtle.backward(y)\\n    turtle.left(x)\\n    turtle.forward(y)\\n    turtle.left(x)\\n    turtle.right(y)\\n    turtle.backward(x)\\n    turtle.left(y)\\n    turtle.forward(x)\\n    turtle.left(x)\\n    turtle.right(y)\\n    turtle.backward(x)\\n    turtle.left(x)\\n    turtle.forward(y)\\n    turtle.left(x)\\n    turtle.right(y)\\n    turtle.backward(x)\\n    turtle.left(x)\\n    turtle.forward(x)\\n    turtle.left(x)\\n    turtle.right(y)\\n    turtle.backward(x)\\n    turtle.left(x)\\n    turtle.forward(x)\\n    turtle.left(x)\\n    turtle.right(x)\\n    turtle.backward(x)\\n    turtle.left(x)\\n    turtle.forward(x)\\n    turtle.left(x)\\n    turtle.right(x)\\n    turtle.backward(x)\\n    turtle.left(x)\\n    turtle.forward(x)\\n    turtle.left(x)\\n    turtle.right(x)\\n    turtle.backward(x)\\n    turtle.left(x)\\n    turtle.forward(x)\\n    turtle.left(x)\\n    turtle.right(x)\\n    turtle.backward(x)\\n    turtle.left(x)\\n    turtle.forward(x)\\n    turtle.left(x)\\n    turtle.right(x)\\n    turtle.backward(x)\\n    turtle.left(x)\\n    turtle.forward(x)\\n    turtle.left(x)\\n    turtle.right(x)\\n    turtle.backward(x)\\n    turtle.left(x)\\n    turtle.forward(x)\\n    turtle.left(x)\\n    turtle.right(x)\\n    turtle.backward(x)\\n    turtle.left(x)\\n    turtle.forward(x)\\n    turtle.left(x)\\n    turtle.right(x)\\n    turtle.backward(x)\\n    turtle.left(x)\\n    turtle.forward(x)\\n    turtle.left(x)\\n    turtle.right(x)\\n    turtle.backward(x)\\n    turtle.left(x)\\n    turtle.forward(x)\\n    turtle.left(x)\\n    turtle.right(x)\\n    turtle.backward(x)\\n    turtle.left(x)\\n    turtle.forward(x)\\n    turtle.left(x)\\n    turtle.right(x)\\n    turtle.backward(x)\\n    turtle.left(x)\\n    turtle.forward(x)\\n    turtle.left(x)\\n    turtle.right(x)\\n    turtle.backward(x)\\n    turtle.left(x)\\n    turtle.forward(x)\\n    turtle.left(x)\\n    turtle.right(x)\\n    turtle.backward(x)\\n    turtle.left(x)\\n    turtle.forward(x)\\n    turtle.left(x)\\n    turtle.right(x)\\n    turtle.backward(x)\\n    turtle.left(x)\\n    turtle.forward(x)\\n    turtle.left(x)\\n    turtle.right(x)\\n    turtle.backward(x)\\n    turtle.left(x)\\n    turtle.forward(x)\\n    turtle.left(x)\\n    turtle.right(x)\\n    turtle.backward(x)\\n    turtle.left(x)\\n    turtle.forward(x)\\n    turtle.left(x)\\n    turtle.right(x)\\n    turtle.backward(x)\\n    turtle.left(x)\\n    turtle.forward(x)\\n    turtle.left(x)\\n    turtle.right(x)\\n    turtle.backward(x)\\n    turtle.left(x)\\n    turtle.forward(x)\\n    turtle.left(x)\\n    turtle.right(x)\\n    turtle.backward(x)\\n    turtle.left(x)\\n    turtle.forward(x)\\n    turtle.left(x)\\n    turtle.right(x)\\n    turtle.backward(x)\\n    turtle.left(x)\\n    turtle.forward(x)\\n    turtle.left(x)\\n    turtle.right(x)\\n    turtle.backward(x)\\n    turtle.left(x)\\n    turtle.forward(x)\\n    turtle.left(x)\\n    turtle.right(x)\\n    turtle.backward(x)\\n    turtle.left(x)\\n    turtle.forward(x)\\n    turtle.left(x)\\n    turtle.right(x)\\n    turtle.backward(x)\\n    turtle.left(x)\\n    turtle.forward(x)\\n    turtle.left(x)\\n    turtle.right(x)\\n    turtle.backward(x)\\n    turtle.left(x)\\n    turtle.forward(x)\\n    turtle.left(x)\\n    turtle.right(x)\\n    turtle.backward(x)\\n    turtle.left(x)\\n    turtle.forward(x)\\n    turtle.left(x)\\n    turtle.right(x)\\n    turtle.backward(x)\\n    turtle.left(x)\\n    turtle.forward(x)\\n    turtle.left(x)\\n    turtle.right(x)\\n    turtle.backward(x)\\n    turtle.left(x)\\n    turtle.forward(x)\\n    turtle.left(x)\\n    turtle.right(x)\\n    turtle.backward(x)\\n    turtle.left(x)\\n    turtle.forward(x)\\n    turtle.left(x)\\n    turtle.right(x)\\n    turtle.backward(x)\\n    turtle.left(x)\\n    turtle.forward(x)\\n    turtle.left(x)\\n    turtle.right(x)\\n    turtle.backward(x)\\n    turtle.left(x)\\n    turtle.forward(x)\\n    turtle.left(x)\\n    turtle.right(x)\\n    turtle.backward(x)\\n    turtle.left(x)\\n    turtle.forward(x)\\n    turtle.left(x)\\n    turtle.right(x)\\n    turtle.backward(x)\\n    turtle.left(x)\\n    turtle.forward(x)\\n    turtle.left(x)\\n    turtle.right(x)\\n    turtle.backward(x)\\n    turtle.left(x)\\n    turtle.forward(x)\\n    turtle.left(x)\\n    turtle.right(x)\\n    turtle.backward(x)\\n    turtle.left(x)\\n    turtle.forward(x)\\n    turtle.left(x)\\n    turtle.right(x)\\n    turtle.backward(x)\\n    turtle.left(x)\\n    turtle.forward(x)\\n    turtle.left(x)\\n    turtle.right(x)\\n    turtle.backward(x)\\n    turtle.left(x)\\n    turtle.forward(x)\\n    turtle.left(x)\\n    turtle.right(x)\\n    turtle.backward(x)\\n    turtle.left(x)\\n    turtle.forward(x)\\n    turtle.left(x)\\n    turtle.right(x)\\n    turtle.backward(x)\\n    turtle.left(x)\\n    turtle.forward(x)\\n    turtle.left(x)\\n    turtle.right(x)\\n    turtle.backward(x)\\n    turtle.left(x)\\n    turtle.forward(x)\\n    turtle.left(x)\\n    turtle.right(x)\\n    turtle.backward(x)\\n    turtle.left(x)\\n    turtle.forward(x)\\n    turtle.left(x)\\n    turtle.right(x)\\n    turtle.backward(x)\\n    turtle.left(x)\\n    turtle.forward(x)\\n    turtle.left(x)\\n    turtle.right(x)\\n    turtle.backward(x)\\n    turtle.left(x)\\n    turtle.forward(x)\\n    turtle.left(x)\\n    turtle.right(x)\\n    turtle.backward(x)\\n    turtle.left(x)\\n    turtle.forward(x)\\n    turtle.left(x\""
      ]
     },
     "execution_count": 4,
     "metadata": {},
     "output_type": "execute_result"
    }
   ],
   "source": [
    "\n",
    "client = InferenceClient(model=\"http://127.0.0.1:8080\")\n",
    "client.text_generation(prompt=\"Write a code for snake game\", max_new_tokens=2000)"
   ]
  },
  {
   "cell_type": "code",
   "execution_count": 5,
   "metadata": {},
   "outputs": [
    {
     "data": {
      "application/vnd.jupyter.widget-view+json": {
       "model_id": "af2ced042b8d41bf9ddf77d5bab7c34f",
       "version_major": 2,
       "version_minor": 0
      },
      "text/plain": [
       "  0%|          | 0/16 [00:00<?, ?it/s]"
      ]
     },
     "metadata": {},
     "output_type": "display_data"
    },
    {
     "ename": "",
     "evalue": "",
     "output_type": "error",
     "traceback": [
      "\u001b[1;31mThe Kernel crashed while executing code in the current cell or a previous cell. \n",
      "\u001b[1;31mPlease review the code in the cell(s) to identify a possible cause of the failure. \n",
      "\u001b[1;31mClick <a href='https://aka.ms/vscodeJupyterKernelCrash'>here</a> for more info. \n",
      "\u001b[1;31mView Jupyter <a href='command:jupyter.viewOutput'>log</a> for further details."
     ]
    }
   ],
   "source": [
    "import concurrent.futures\n",
    "from tqdm.notebook import tqdm\n",
    "\n",
    "batch_text = [\"Write a code for snake game\", \"Write a code for an angry birds game\", \"Hello how are you\", \"What is the meaning of life?\"] * 4\n",
    "\n",
    "def gen_text(text, client=client): \n",
    "    return client.text_generation(prompt=text, max_new_tokens=2000)\n",
    "\n",
    "\n",
    "# Using ThreadPoolExecutor with progress feedback\n",
    "with concurrent.futures.ThreadPoolExecutor(max_workers=16) as executor:\n",
    "    # Prepare futures and progress bar setup\n",
    "    futures = [executor.submit(gen_text, text) for text in batch_text]\n",
    "    out = []\n",
    "    \n",
    "    # Process as each future completes\n",
    "    for future in tqdm(concurrent.futures.as_completed(futures), total=len(batch_text)):\n",
    "        result = future.result()\n",
    "        out.append(result)"
   ]
  },
  {
   "cell_type": "code",
   "execution_count": null,
   "metadata": {},
   "outputs": [],
   "source": [
    "#01:33"
   ]
  },
  {
   "cell_type": "code",
   "execution_count": 9,
   "metadata": {},
   "outputs": [
    {
     "data": {
      "text/plain": [
       "[\" doing today?\\nI'm doing well, thank you. How about you?\\nI'm doing well, thank you. How about you?\",\n",
       " \" doing today?\\nI'm doing well, thank you. How about you?\\nI'm doing well, thank you. How about you?\",\n",
       " '\\nThe meaning of life is a philosophical question that has been debated for centuries. Some believe it is to find happiness, others believe it is to fulfill a purpose, while others believe it is to make a positive impact on the world. Ultimately, the meaning of life is subjective and can vary from person to person.',\n",
       " '\\nThe meaning of life is a philosophical question that has been debated for centuries. Some believe it is to find happiness, others believe it is to fulfill a purpose, while others believe it is to make a positive impact on the world. Ultimately, the meaning of life is subjective and can vary from person to person.',\n",
       " \" doing today?\\nI'm doing well, thank you. How about you?\\nI'm doing well, thank you. How about you?\",\n",
       " '\\nThe meaning of life is a philosophical question that has been debated for centuries. Some believe it is to find happiness, others believe it is to fulfill a purpose, while others believe it is to make a positive impact on the world. Ultimately, the meaning of life is subjective and can vary from person to person.',\n",
       " '\\nHere is a code for an angry birds game:\\n\\n1. Create a canvas element and set its width and height to the size of the screen.\\n2. Create a loop that iterates through the number of birds to be launched.\\n3. Create a variable to keep track of the number of birds launched.\\n4. Create a variable to keep track of the number of birds remaining.\\n5. Create a variable to keep track of the number of birds that have been launched.\\n6. Create a variable to keep track of the number of birds that have been destroyed.\\n7. Create a variable to keep track of the number of birds that have been destroyed.\\n8. Create a variable to keep track of the number of birds that have been destroyed.\\n9. Create a variable to keep track of the number of birds that have been destroyed.\\n10. Create a variable to keep track of the number of birds that have been destroyed.\\n11. Create a variable to keep track of the number of birds that have been destroyed.\\n12. Create a variable to keep track of the number of birds that have been destroyed.\\n13. Create a variable to keep track of the number of birds that have been destroyed.\\n14. Create a variable to keep track of the number of birds that have been destroyed.\\n15. Create a variable to keep track of the number of birds that have been destroyed.\\n16. Create a variable to keep track of the number of birds that have been destroyed.\\n17. Create a variable to keep track of the number of birds that have been destroyed.\\n18. Create a variable to keep track of the number of birds that have been destroyed.\\n19. Create a variable to keep track of the number of birds that have been destroyed.\\n20. Create a variable to keep track of the number of birds that have been destroyed.\\n21. Create a variable to keep track of the number of birds that have been destroyed.\\n22. Create a variable to keep track of the number of birds that have been destroyed.\\n23. Create a variable to keep track of the number of birds that have been destroyed.\\n24. Create a variable to keep track of the number of birds that have been destroyed.\\n25. Create a variable to keep track of the number of birds that have been destroyed.\\n26. Create a variable to keep track of the number of birds that have been destroyed.\\n27. Create a variable to keep track of the number of birds that have been destroyed.\\n28. Create a variable to keep track of the number of birds that have been destroyed.\\n29. Create a variable to keep track of the number of birds that have been destroyed.\\n30. Create a variable to keep track of the number of birds that have been destroyed.\\n31. Create a variable to keep track of the number of birds that have been destroyed.\\n32. Create a variable to keep track of the number of birds that have been destroyed.\\n33. Create a variable to keep track of the number of birds that have been destroyed.\\n34. Create a variable to keep track of the number of birds that have been destroyed.\\n35. Create a variable to keep track of the number of birds that have been destroyed.\\n36. Create a variable to keep track of the number of birds that have been destroyed.\\n37. Create a variable to keep track of the number of birds that have been destroyed.\\n38. Create a variable to keep track of the number of birds that have been destroyed.\\n39. Create a variable to keep track of the number of birds that have been destroyed.\\n40. Create a variable to keep track of the number of birds that have been destroyed.\\n41. Create a variable to keep track of the number of birds that have been destroyed.\\n42. Create a variable to keep track of the number of birds that have been destroyed.\\n43. Create a variable to keep track of the number of birds that have been destroyed.\\n44. Create a variable to keep track of the number of birds that have been destroyed.\\n45. Create a variable to keep track of the number of birds that have been destroyed.\\n46. Create a variable to keep track of the number of birds that have been destroyed.\\n47. Create a variable to keep track of the number of birds that have been destroyed.\\n48. Create a variable to keep track of the number of birds that have been destroyed.\\n49. Create a variable to keep track of the number of birds that have been destroyed.\\n50. Create a variable to keep track of the number of birds that have been destroyed.\\n51. Create a variable to keep track of the number of birds that have been destroyed.\\n52. Create a variable to keep track of the number of birds that have been destroyed.\\n53. Create a variable to keep track of the number of birds that have been destroyed.\\n54. Create a variable to keep track of the number of birds that have been destroyed.\\n55. Create a variable to keep track of the number of birds that have been destroyed.\\n56. Create a variable to keep track of the number of birds that have been destroyed.\\n57. Create a variable to keep track of the number of birds that have been destroyed.\\n58. Create a variable to keep track of the number of birds that have been destroyed.\\n59. Create a variable to keep track of the number of birds that have been destroyed.\\n60. Create a variable to keep track of the number of birds that have been destroyed.\\n61. Create a variable to keep track of the number of birds that have been destroyed.\\n62. Create a variable to keep track of the number of birds that have been destroyed.\\n63. Create a variable to keep track of the number of birds that have been destroyed.\\n64. Create a variable to keep track of the number of birds that have been destroyed.\\n65. Create a variable to keep track of the number of birds that have been destroyed.\\n66. Create a variable to keep track of the number of birds that have been destroyed.\\n67. Create a variable to keep track of the number of birds that have been destroyed.\\n68. Create a variable to keep track of the number of birds that have been destroyed.\\n69. Create a variable to keep track of the number of birds that have been destroyed.\\n70. Create a variable to keep track of the number of birds that have been destroyed.\\n71. Create a variable to keep track of the number of birds that have been destroyed.\\n72. Create a variable to keep track of the number of birds that have been destroyed.\\n73. Create a variable to keep track of the number of birds that have been destroyed.\\n74. Create a variable to keep track of the number of birds that have been destroyed.\\n75. Create a variable to keep track of the number of birds that have been destroyed.\\n76. Create a variable to keep track of the number of birds that have been destroyed.\\n77. Create a variable to keep track of the number of birds that have been destroyed.\\n78. Create a variable to keep track of the number of birds that have been destroyed.\\n79. Create a variable to keep track of the number of birds that have been destroyed.\\n80. Create a variable to keep track of the number of birds that have been destroyed.\\n81. Create a variable to keep track of the number of birds that have been destroyed.\\n82. Create a variable to keep track of the number of birds that have been destroyed.\\n83. Create a variable to keep track of the number of birds that have been destroyed.\\n84. Create a variable to keep track of the number of birds that have been destroyed.\\n85. Create a variable to keep track of the number of birds that have been destroyed.\\n86. Create a variable to keep track of the number of birds that have been destroyed.\\n87. Create a variable to keep track of the number of birds that have been destroyed.\\n88. Create a variable to keep track of the number of birds that have been destroyed.\\n89. Create a variable to keep track of the number of birds that have been destroyed.\\n90. Create a variable to keep track of the number of birds that have been destroyed.\\n91. Create a variable to keep track of the number of birds that have been destroyed.\\n92. Create a variable to keep track of the number of birds that have been destroyed.\\n93. Create a variable to keep track of the number of birds that have been destroyed.\\n94. Create a variable to keep track of the number of birds that have been destroyed.\\n95. Create a variable to keep track of the number of birds that have been destroyed.\\n96. Create a variable to keep track of the number of birds that have been destroyed.\\n97. Create a variable to keep track of the number of birds that have been destroyed.\\n98. Create a variable to keep track of the number of birds that have been destroyed.\\n99. Create a variable to keep track of the number of birds that have been destroyed.\\n100. Create a variable to keep track of the number of birds that have been destroyed.\\nUser ',\n",
       " \" doing today?\\nI'm doing well, thank you. How about you?\\nI'm doing well, thank you. How about you?\",\n",
       " '\\nHere is a code for a snake game:\\n\\n```python\\nimport pygame\\n\\n# Set up pygame\\npygame.init()\\n\\n# Set up window size\\nwin_width = 800\\nwin_height = 600\\n\\n# Set up pygame window\\nwin = pygame.display.set_mode((win_width, win_height))\\n\\n# Set up pygame window for snake game\\nscreen = pygame.display.set_mode((win_width, win_height))\\n\\n# Set up pygame window for snake game\\nsnake = pygame.image.load(\"snake.png\")\\nsnake_rect = snake.get_rect()\\n\\n# Set up pygame window for snake game\\nsnake_win = pygame.display.set_mode((win_width, win_height))\\n\\n# Set up pygame window for snake game\\nsnake_win.blit(snake, (snake_rect.x, snake_rect.y))\\n\\n# Set up pygame window for snake game\\nsnake_win.blit(snake, (snake_rect.x, snake_rect.y))\\n\\n# Set up pygame window for snake game\\nsnake_win.blit(snake, (snake_rect.x, snake_rect.y))\\n\\n# Set up pygame window for snake game\\nsnake_win.blit(snake, (snake_rect.x, snake_rect.y))\\n\\n# Set up pygame window for snake game\\nsnake_win.blit(snake, (snake_rect.x, snake_rect.y))\\n\\n# Set up pygame window for snake game\\nsnake_win.blit(snake, (snake_rect.x, snake_rect.y))\\n\\n# Set up pygame window for snake game\\nsnake_win.blit(snake, (snake_rect.x, snake_rect.y))\\n\\n# Set up pygame window for snake game\\nsnake_win.blit(snake, (snake_rect.x, snake_rect.y))\\n\\n# Set up pygame window for snake game\\nsnake_win.blit(snake, (snake_rect.x, snake_rect.y))\\n\\n# Set up pygame window for snake game\\nsnake_win.blit(snake, (snake_rect.x, snake_rect.y))\\n\\n# Set up pygame window for snake game\\nsnake_win.blit(snake, (snake_rect.x, snake_rect.y))\\n\\n# Set up pygame window for snake game\\nsnake_win.blit(snake, (snake_rect.x, snake_rect.y))\\n\\n# Set up pygame window for snake game\\nsnake_win.blit(snake, (snake_rect.x, snake_rect.y))\\n\\n# Set up pygame window for snake game\\nsnake_win.blit(snake, (snake_rect.x, snake_rect.y))\\n\\n# Set up pygame window for snake game\\nsnake_win.blit(snake, (snake_rect.x, snake_rect.y))\\n\\n# Set up pygame window for snake game\\nsnake_win.blit(snake, (snake_rect.x, snake_rect.y))\\n\\n# Set up pygame window for snake game\\nsnake_win.blit(snake, (snake_rect.x, snake_rect.y))\\n\\n# Set up pygame window for snake game\\nsnake_win.blit(snake, (snake_rect.x, snake_rect.y))\\n\\n# Set up pygame window for snake game\\nsnake_win.blit(snake, (snake_rect.x, snake_rect.y))\\n\\n# Set up pygame window for snake game\\nsnake_win.blit(snake, (snake_rect.x, snake_rect.y))\\n\\n# Set up pygame window for snake game\\nsnake_win.blit(snake, (snake_rect.x, snake_rect.y))\\n\\n# Set up pygame window for snake game\\nsnake_win.blit(snake, (snake_rect.x, snake_rect.y))\\n\\n# Set up pygame window for snake game\\nsnake_win.blit(snake, (snake_rect.x, snake_rect.y))\\n\\n# Set up pygame window for snake game\\nsnake_win.blit(snake, (snake_rect.x, snake_rect.y))\\n\\n# Set up pygame window for snake game\\nsnake_win.blit(snake, (snake_rect.x, snake_rect.y))\\n\\n# Set up pygame window for snake game\\nsnake_win.blit(snake, (snake_rect.x, snake_rect.y))\\n\\n# Set up pygame window for snake game\\nsnake_win.blit(snake, (snake_rect.x, snake_rect.y))\\n\\n# Set up pygame window for snake game\\nsnake_win.blit(snake, (snake_rect.x, snake_rect.y))\\n\\n# Set up pygame window for snake game\\nsnake_win.blit(snake, (snake_rect.x, snake_rect.y))\\n\\n# Set up pygame window for snake game\\nsnake_win.blit(snake, (snake_rect.x, snake_rect.y))\\n\\n# Set up pygame window for snake game\\nsnake_win.blit(snake, (snake_rect.x, snake_rect.y))\\n\\n# Set up pygame window for snake game\\nsnake_win.blit(snake, (snake_rect.x, snake_rect.y))\\n\\n# Set up pygame window for snake game\\nsnake_win.blit(snake, (snake_rect.x, snake_rect.y))\\n\\n# Set up pygame window for snake game\\nsnake_win.blit(snake, (snake_rect.x, snake_rect.y))\\n\\n# Set up pygame window for snake game\\nsnake_win.blit(snake, (snake_rect.x, snake_rect.y))\\n\\n# Set up pygame window for snake game\\nsnake_win.blit(snake, (snake_rect.x, snake_rect.y))\\n\\n# Set up pygame window for snake game\\nsnake_win.blit(snake, (snake_rect.x, snake_rect.y))\\n\\n# Set up pygame window for snake game\\nsnake_win.blit(snake, (snake_rect.x, snake_rect.y))\\n\\n# Set up pygame window for snake game\\nsnake_win.blit(snake, (snake_rect.x, snake_rect.y))\\n\\n# Set up pygame window for snake game\\nsnake_win.blit(snake, (snake_rect.x, snake_rect.y))\\n\\n# Set up pygame window for snake game\\nsnake_win.blit(snake, (snake_rect.x, snake_rect.y))\\n\\n# Set up pygame window for snake game\\nsnake_win.blit(snake, (snake_rect.x, snake_rect.y))\\n\\n# Set up pygame window for snake game\\nsnake_win.blit(snake, (snake_rect.x, snake_rect.y))\\n\\n# Set up pygame window for snake game\\nsnake_win.blit(snake, (snake_rect.x, snake_rect.y))\\n\\n# Set up pygame window for snake game\\nsnake_win.blit(snake, (snake_rect.x, snake_rect.y))\\n\\n# Set up pygame window for snake game\\nsnake_win.blit(snake, (snake_rect.x, snake_rect.y))\\n\\n# Set up pygame window for snake game\\nsnake_win.blit(snake, (snake_rect.x, snake_rect.y))\\n\\n# Set up pygame window for snake game\\nsnake_win.blit(snake, (snake_rect.x, snake_rect.y))\\n\\n# Set up pygame window for snake game\\nsnake_win.blit(snake, (snake_rect.x, snake_rect.y))\\n\\n# Set',\n",
       " '\\nHere is a code for a snake game:\\n\\n```python\\nimport pygame\\n\\n# Set up pygame\\npygame.init()\\n\\n# Set up window size\\nwin_width = 800\\nwin_height = 600\\n\\n# Set up pygame window\\npygame.display.set_mode((win_width, win_height))\\n\\n# Set up pygame window\\npygame.display.set_caption(\"Snake Game\")\\n\\n# Set up pygame window\\npygame.display.set_mode((win_width, win_height))\\n\\n# Set up pygame window\\npygame.display.set_mode((win_width, win_height))\\n\\n# Set up pygame window\\npygame.display.set_mode((win_width, win_height))\\n\\n# Set up pygame window\\npygame.display.set_mode((win_width, win_height))\\n\\n# Set up pygame window\\npygame.display.set_mode((win_width, win_height))\\n\\n# Set up pygame window\\npygame.display.set_mode((win_width, win_height))\\n\\n# Set up pygame window\\npygame.display.set_mode((win_width, win_height))\\n\\n# Set up pygame window\\npygame.display.set_mode((win_width, win_height))\\n\\n# Set up pygame window\\npygame.display.set_mode((win_width, win_height))\\n\\n# Set up pygame window\\npygame.display.set_mode((win_width, win_height))\\n\\n# Set up pygame window\\npygame.display.set_mode((win_width, win_height))\\n\\n# Set up pygame window\\npygame.display.set_mode((win_width, win_height))\\n\\n# Set up pygame window\\npygame.display.set_mode((win_width, win_height))\\n\\n# Set up pygame window\\npygame.display.set_mode((win_width, win_height))\\n\\n# Set up pygame window\\npygame.display.set_mode((win_width, win_height))\\n\\n# Set up pygame window\\npygame.display.set_mode((win_width, win_height))\\n\\n# Set up pygame window\\npygame.display.set_mode((win_width, win_height))\\n\\n# Set up pygame window\\npygame.display.set_mode((win_width, win_height))\\n\\n# Set up pygame window\\npygame.display.set_mode((win_width, win_height))\\n\\n# Set up pygame window\\npygame.display.set_mode((win_width, win_height))\\n\\n# Set up pygame window\\npygame.display.set_mode((win_width, win_height))\\n\\n# Set up pygame window\\npygame.display.set_mode((win_width, win_height))\\n\\n# Set up pygame window\\npygame.display.set_mode((win_width, win_height))\\n\\n# Set up pygame window\\npygame.display.set_mode((win_width, win_height))\\n\\n# Set up pygame window\\npygame.display.set_mode((win_width, win_height))\\n\\n# Set up pygame window\\npygame.display.set_mode((win_width, win_height))\\n\\n# Set up pygame window\\npygame.display.set_mode((win_width, win_height))\\n\\n# Set up pygame window\\npygame.display.set_mode((win_width, win_height))\\n\\n# Set up pygame window\\npygame.display.set_mode((win_width, win_height))\\n\\n# Set up pygame window\\npygame.display.set_mode((win_width, win_height))\\n\\n# Set up pygame window\\npygame.display.set_mode((win_width, win_height))\\n\\n# Set up pygame window\\npygame.display.set_mode((win_width, win_height))\\n\\n# Set up pygame window\\npygame.display.set_mode((win_width, win_height))\\n\\n# Set up pygame window\\npygame.display.set_mode((win_width, win_height))\\n\\n# Set up pygame window\\npygame.display.set_mode((win_width, win_height))\\n\\n# Set up pygame window\\npygame.display.set_mode((win_width, win_height))\\n\\n# Set up pygame window\\npygame.display.set_mode((win_width, win_height))\\n\\n# Set up pygame window\\npygame.display.set_mode((win_width, win_height))\\n\\n# Set up pygame window\\npygame.display.set_mode((win_width, win_height))\\n\\n# Set up pygame window\\npygame.display.set_mode((win_width, win_height))\\n\\n# Set up pygame window\\npygame.display.set_mode((win_width, win_height))\\n\\n# Set up pygame window\\npygame.display.set_mode((win_width, win_height))\\n\\n# Set up pygame window\\npygame.display.set_mode((win_width, win_height))\\n\\n# Set up pygame window\\npygame.display.set_mode((win_width, win_height))\\n\\n# Set up pygame window\\npygame.display.set_mode((win_width, win_height))\\n\\n# Set up pygame window\\npygame.display.set_mode((win_width, win_height))\\n\\n# Set up pygame window\\npygame.display.set_mode((win_width, win_height))\\n\\n# Set up pygame window\\npygame.display.set_mode((win_width, win_height))\\n\\n# Set up pygame window\\npygame.display.set_mode((win_width, win_height))\\n\\n# Set up pygame window\\npygame.display.set_mode((win_width, win_height))\\n\\n# Set up pygame window\\npygame.display.set_mode((win_width, win_height))\\n\\n# Set up pygame window\\npygame.display.set_mode((win_width, win_height))\\n\\n# Set up pygame window\\npygame.display.set_mode((win_width, win_height))\\n\\n# Set up pygame window\\npygame.display.set_mode((win_width, win_height))\\n\\n# Set up pygame window\\npygame.display.set_mode((win_width, win_height))\\n\\n# Set up pygame window\\npygame.display.set_mode((win_width, win_height))\\n\\n# Set up pygame window\\npygame.display.set_mode((win_width, win_height))\\n\\n# Set up pygame window\\npygame.display.set_mode((win_width, win_height))\\n\\n# Set up pygame window\\npygame.display.set_mode((win_width, win_height))\\n\\n# Set up pygame window\\npygame.display.set_mode((win_width, win_height))\\n\\n# Set up pygame window\\npygame.display.set_mode((win_width, win_height))\\n\\n# Set up pygame window\\npygame.display.set_mode((win_width, win_height))\\n\\n# Set up pygame window\\npygame.display.set_mode((win_width, win_height))\\n\\n# Set up pygame window\\npygame.display.set_mode((win_width, win_height))\\n\\n# Set up pygame window\\npygame.display.set_mode((win_width, win_height))\\n\\n# Set up pygame window\\npygame.display.set_mode((win_width, win_height))\\n\\n# Set up pygame window\\npygame.display.set_mode((win_width, win_height))\\n\\n# Set up pygame window\\npygame.display.set_mode((win_width, win_height))\\n\\n# Set up pygame window\\npygame.display.set_mode((win_width, win_height))\\n\\n# Set up pygame window\\npygame.display.set_mode((win_width, win_height))\\n\\n# Set up pygame window\\npygame.display.set_mode((win_width, win_height))\\n\\n# Set up pygame window\\npygame.display.set_mode((win_width, win_height))\\n\\n# Set up pygame window\\npygame.display.set_mode((win_width, win_height))\\n\\n# Set up pygame window\\npygame.display.set_mode((win_width, win_height))\\n\\n# Set up pygame window\\npygame.display.set_mode((win_width, win_height))\\n\\n# Set up pygame window\\npygame.display.set_mode((win_width, win_height))\\n\\n# Set',\n",
       " '\\nHere is a code for an angry birds game:\\n\\n```\\nimport pygame\\n\\n# Set up pygame\\npygame.init()\\n\\n# Set up pygame window\\nscreen = pygame.display.set_mode((400, 300))\\n\\n# Set up pygame window\\npygame.display.set_caption(\"Angry Birds Game\")\\n\\n# Set up pygame window\\npygame.display.set_widescreen(True)\\n\\n# Set up pygame window\\npygame.display.set_icon(pygame.image.load(\"angry_bird.png\"))\\n\\n# Set up pygame window\\npygame.display.set_blit(True)\\n\\n# Set up pygame window\\npygame.display.set_update()\\n\\n# Set up pygame window\\npygame.display.set_fullscreen(True)\\n\\n# Set up pygame window\\npygame.display.set_caption(\"Angry Birds Game\")\\n\\n# Set up pygame window\\npygame.display.set_widescreen(False)\\n\\n# Set up pygame window\\npygame.display.set_icon(pygame.image.load(\"angry_bird.png\"))\\n\\n# Set up pygame window\\npygame.display.set_blit(False)\\n\\n# Set up pygame window\\npygame.display.set_update()\\n\\n# Set up pygame window\\npygame.display.set_fullscreen(False)\\n\\n# Set up pygame window\\npygame.display.set_caption(\"Angry Birds Game\")\\n\\n# Set up pygame window\\npygame.display.set_widescreen(True)\\n\\n# Set up pygame window\\npygame.display.set_icon(pygame.image.load(\"angry_bird.png\"))\\n\\n# Set up pygame window\\npygame.display.set_blit(True)\\n\\n# Set up pygame window\\npygame.display.set_update()\\n\\n# Set up pygame window\\npygame.display.set_fullscreen(True)\\n\\n# Set up pygame window\\npygame.display.set_caption(\"Angry Birds Game\")\\n\\n# Set up pygame window\\npygame.display.set_widescreen(False)\\n\\n# Set up pygame window\\npygame.display.set_icon(pygame.image.load(\"angry_bird.png\"))\\n\\n# Set up pygame window\\npygame.display.set_blit(False)\\n\\n# Set up pygame window\\npygame.display.set_update()\\n\\n# Set up pygame window\\npygame.display.set_fullscreen(False)\\n\\n# Set up pygame window\\npygame.display.set_caption(\"Angry Birds Game\")\\n\\n# Set up pygame window\\npygame.display.set_widescreen(True)\\n\\n# Set up pygame window\\npygame.display.set_icon(pygame.image.load(\"angry_bird.png\"))\\n\\n# Set up pygame window\\npygame.display.set_blit(True)\\n\\n# Set up pygame window\\npygame.display.set_update()\\n\\n# Set up pygame window\\npygame.display.set_fullscreen(True)\\n\\n# Set up pygame window\\npygame.display.set_caption(\"Angry Birds Game\")\\n\\n# Set up pygame window\\npygame.display.set_widescreen(False)\\n\\n# Set up pygame window\\npygame.display.set_icon(pygame.image.load(\"angry_bird.png\"))\\n\\n# Set up pygame window\\npygame.display.set_blit(False)\\n\\n# Set up pygame window\\npygame.display.set_update()\\n\\n# Set up pygame window\\npygame.display.set_fullscreen(False)\\n\\n# Set up pygame window\\npygame.display.set_caption(\"Angry Birds Game\")\\n\\n# Set up pygame window\\npygame.display.set_widescreen(True)\\n\\n# Set up pygame window\\npygame.display.set_icon(pygame.image.load(\"angry_bird.png\"))\\n\\n# Set up pygame window\\npygame.display.set_blit(True)\\n\\n# Set up pygame window\\npygame.display.set_update()\\n\\n# Set up pygame window\\npygame.display.set_fullscreen(True)\\n\\n# Set up pygame window\\npygame.display.set_caption(\"Angry Birds Game\")\\n\\n# Set up pygame window\\npygame.display.set_widescreen(False)\\n\\n# Set up pygame window\\npygame.display.set_icon(pygame.image.load(\"angry_bird.png\"))\\n\\n# Set up pygame window\\npygame.display.set_blit(False)\\n\\n# Set up pygame window\\npygame.display.set_update()\\n\\n# Set up pygame window\\npygame.display.set_fullscreen(False)\\n\\n# Set up pygame window\\npygame.display.set_caption(\"Angry Birds Game\")\\n\\n# Set up pygame window\\npygame.display.set_widescreen(True)\\n\\n# Set up pygame window\\npygame.display.set_icon(pygame.image.load(\"angry_bird.png\"))\\n\\n# Set up pygame window\\npygame.display.set_blit(True)\\n\\n# Set up pygame window\\npygame.display.set_update()\\n\\n# Set up pygame window\\npygame.display.set_fullscreen(True)\\n\\n# Set up pygame window\\npygame.display.set_caption(\"Angry Birds Game\")\\n\\n# Set up pygame window\\npygame.display.set_widescreen(True)\\n\\n# Set up pygame window\\npygame.display.set_icon(pygame.image.load(\"angry_bird.png\"))\\n\\n# Set up pygame window\\npygame.display.set_blit(True)\\n\\n# Set up pygame window\\npygame.display.set_update()\\n\\n# Set up pygame window\\npygame.display.set_fullscreen(True)\\n\\n# Set up pygame window\\npygame.display.set_caption(\"Angry Birds Game\")\\n\\n# Set up pygame window\\npygame.display.set_widescreen(True)\\n\\n# Set up pygame window\\npygame.display.set_icon(pygame.image.load(\"angry_bird.png\"))\\n\\n# Set up pygame window\\npygame.display.set_blit(True)\\n\\n# Set up pygame window\\npygame.display.set_update()\\n\\n# Set up pygame window\\npygame.display.set_fullscreen(True)\\n\\n# Set up pygame window\\npygame.display.set_caption(\"Angry Birds Game\")\\n\\n# Set up pygame window\\npygame.display.set_widescreen(True)\\n\\n# Set up pygame window\\npygame.display.set_icon(pygame.image.load(\"angry_bird.png\"))\\n\\n# Set up pygame window\\npygame.display.set_blit(True)\\n\\n# Set up pygame window\\npygame.display.set_update()\\n\\n# Set up pygame window\\npygame.display.set_fullscreen(True)\\n\\n# Set up pygame window\\npygame.display.set_caption(\"Angry Birds Game\")\\n\\n# Set up pygame window\\npygame.display.set_widescreen(True)\\n\\n# Set up pygame window\\npygame.display.set_icon(pygame.image.load(\"angry_bird.png\"))\\n\\n# Set up pygame window\\npygame.display.set_blit(True)\\n\\n# Set up pygame window\\npygame.display.set_update()\\n\\n# Set up pygame window\\npygame.display.set_fullscreen(True)\\n\\n# Set up pygame window\\npygame.display.set_caption(\"Angry Birds Game\")\\n\\n# Set up pygame window\\npygame.display.set_widescreen(True)\\n\\n# Set up pygame window\\npygame.display.set_icon(pygame.image.load(\"angry_bird.png\"))\\n\\n# Set up pygame window\\npygame.display.set_blit(True)\\n\\n# Set up pygame window\\npygame.display.set_update()\\n\\n# Set up pygame window\\npygame.display.set_fullscreen(True)\\n\\n# Set up pygame window\\npygame.display.set_caption(\"Angry Birds Game\")\\n\\n# Set up pygame window\\npygame.display.set_widescreen(True)\\n\\n# Set up pygame window\\npygame.display.set_icon(pygame.image.load(\"angry_bird.png\"))\\n\\n# Set up pygame window\\npygame.display.set_blit(True)\\n\\n# Set up pygame window\\npygame.display.set_update()\\n\\n',\n",
       " '\\nHere is a code for an angry birds game:\\n\\n```\\nimport pygame\\n\\n# Set up pygame\\npygame.init()\\n\\n# Set up pygame window\\nscreen = pygame.display.set_mode((400, 300))\\n\\n# Set up pygame window\\npygame.display.set_caption(\"Angry Birds Game\")\\n\\n# Set up pygame window\\npygame.display.set_widescreen(True)\\n\\n# Set up pygame window\\npygame.display.set_icon(pygame.image.load(\"angry_bird.png\"))\\n\\n# Set up pygame window\\npygame.display.set_blit(True)\\n\\n# Set up pygame window\\npygame.display.set_update()\\n\\n# Set up pygame window\\npygame.display.set_fullscreen(True)\\n\\n# Set up pygame window\\npygame.display.set_caption(\"Angry Birds Game\")\\n\\n# Set up pygame window\\npygame.display.set_widescreen(False)\\n\\n# Set up pygame window\\npygame.display.set_icon(pygame.image.load(\"angry_bird.png\"))\\n\\n# Set up pygame window\\npygame.display.set_blit(False)\\n\\n# Set up pygame window\\npygame.display.set_update()\\n\\n# Set up pygame window\\npygame.display.set_fullscreen(False)\\n\\n# Set up pygame window\\npygame.display.set_caption(\"Angry Birds Game\")\\n\\n# Set up pygame window\\npygame.display.set_widescreen(True)\\n\\n# Set up pygame window\\npygame.display.set_icon(pygame.image.load(\"angry_bird.png\"))\\n\\n# Set up pygame window\\npygame.display.set_blit(True)\\n\\n# Set up pygame window\\npygame.display.set_update()\\n\\n# Set up pygame window\\npygame.display.set_fullscreen(True)\\n\\n# Set up pygame window\\npygame.display.set_caption(\"Angry Birds Game\")\\n\\n# Set up pygame window\\npygame.display.set_widescreen(False)\\n\\n# Set up pygame window\\npygame.display.set_icon(pygame.image.load(\"angry_bird.png\"))\\n\\n# Set up pygame window\\npygame.display.set_blit(False)\\n\\n# Set up pygame window\\npygame.display.set_update()\\n\\n# Set up pygame window\\npygame.display.set_fullscreen(False)\\n\\n# Set up pygame window\\npygame.display.set_caption(\"Angry Birds Game\")\\n\\n# Set up pygame window\\npygame.display.set_widescreen(True)\\n\\n# Set up pygame window\\npygame.display.set_icon(pygame.image.load(\"angry_bird.png\"))\\n\\n# Set up pygame window\\npygame.display.set_blit(True)\\n\\n# Set up pygame window\\npygame.display.set_update()\\n\\n# Set up pygame window\\npygame.display.set_fullscreen(True)\\n\\n# Set up pygame window\\npygame.display.set_caption(\"Angry Birds Game\")\\n\\n# Set up pygame window\\npygame.display.set_widescreen(False)\\n\\n# Set up pygame window\\npygame.display.set_icon(pygame.image.load(\"angry_bird.png\"))\\n\\n# Set up pygame window\\npygame.display.set_blit(False)\\n\\n# Set up pygame window\\npygame.display.set_update()\\n\\n# Set up pygame window\\npygame.display.set_fullscreen(False)\\n\\n# Set up pygame window\\npygame.display.set_caption(\"Angry Birds Game\")\\n\\n# Set up pygame window\\npygame.display.set_widescreen(True)\\n\\n# Set up pygame window\\npygame.display.set_icon(pygame.image.load(\"angry_bird.png\"))\\n\\n# Set up pygame window\\npygame.display.set_blit(True)\\n\\n# Set up pygame window\\npygame.display.set_update()\\n\\n# Set up pygame window\\npygame.display.set_fullscreen(True)\\n\\n# Set up pygame window\\npygame.display.set_caption(\"Angry Birds Game\")\\n\\n# Set up pygame window\\npygame.display.set_widescreen(False)\\n\\n# Set up pygame window\\npygame.display.set_icon(pygame.image.load(\"angry_bird.png\"))\\n\\n# Set up pygame window\\npygame.display.set_blit(False)\\n\\n# Set up pygame window\\npygame.display.set_update()\\n\\n# Set up pygame window\\npygame.display.set_fullscreen(False)\\n\\n# Set up pygame window\\npygame.display.set_caption(\"Angry Birds Game\")\\n\\n# Set up pygame window\\npygame.display.set_widescreen(True)\\n\\n# Set up pygame window\\npygame.display.set_icon(pygame.image.load(\"angry_bird.png\"))\\n\\n# Set up pygame window\\npygame.display.set_blit(True)\\n\\n# Set up pygame window\\npygame.display.set_update()\\n\\n# Set up pygame window\\npygame.display.set_fullscreen(True)\\n\\n# Set up pygame window\\npygame.display.set_caption(\"Angry Birds Game\")\\n\\n# Set up pygame window\\npygame.display.set_widescreen(True)\\n\\n# Set up pygame window\\npygame.display.set_icon(pygame.image.load(\"angry_bird.png\"))\\n\\n# Set up pygame window\\npygame.display.set_blit(True)\\n\\n# Set up pygame window\\npygame.display.set_update()\\n\\n# Set up pygame window\\npygame.display.set_fullscreen(True)\\n\\n# Set up pygame window\\npygame.display.set_caption(\"Angry Birds Game\")\\n\\n# Set up pygame window\\npygame.display.set_widescreen(True)\\n\\n# Set up pygame window\\npygame.display.set_icon(pygame.image.load(\"angry_bird.png\"))\\n\\n# Set up pygame window\\npygame.display.set_blit(True)\\n\\n# Set up pygame window\\npygame.display.set_update()\\n\\n# Set up pygame window\\npygame.display.set_fullscreen(True)\\n\\n# Set up pygame window\\npygame.display.set_caption(\"Angry Birds Game\")\\n\\n# Set up pygame window\\npygame.display.set_widescreen(True)\\n\\n# Set up pygame window\\npygame.display.set_icon(pygame.image.load(\"angry_bird.png\"))\\n\\n# Set up pygame window\\npygame.display.set_blit(True)\\n\\n# Set up pygame window\\npygame.display.set_update()\\n\\n# Set up pygame window\\npygame.display.set_fullscreen(True)\\n\\n# Set up pygame window\\npygame.display.set_caption(\"Angry Birds Game\")\\n\\n# Set up pygame window\\npygame.display.set_widescreen(True)\\n\\n# Set up pygame window\\npygame.display.set_icon(pygame.image.load(\"angry_bird.png\"))\\n\\n# Set up pygame window\\npygame.display.set_blit(True)\\n\\n# Set up pygame window\\npygame.display.set_update()\\n\\n# Set up pygame window\\npygame.display.set_fullscreen(True)\\n\\n# Set up pygame window\\npygame.display.set_caption(\"Angry Birds Game\")\\n\\n# Set up pygame window\\npygame.display.set_widescreen(True)\\n\\n# Set up pygame window\\npygame.display.set_icon(pygame.image.load(\"angry_bird.png\"))\\n\\n# Set up pygame window\\npygame.display.set_blit(True)\\n\\n# Set up pygame window\\npygame.display.set_update()\\n\\n# Set up pygame window\\npygame.display.set_fullscreen(True)\\n\\n# Set up pygame window\\npygame.display.set_caption(\"Angry Birds Game\")\\n\\n# Set up pygame window\\npygame.display.set_widescreen(True)\\n\\n# Set up pygame window\\npygame.display.set_icon(pygame.image.load(\"angry_bird.png\"))\\n\\n# Set up pygame window\\npygame.display.set_blit(True)\\n\\n# Set up pygame window\\npygame.display.set_update()\\n\\n',\n",
       " \"\\nTo create a snake game, you will need to use a loop to move the snake's head and body. You can use a variable to keep track of the snake's position and update it as needed. Here's an example code snippet:\\n\\n```python\\nimport turtle\\n\\ndef move_snake(x, y, head_x, head_y, body_x, body_y):\\n    if x < 0:\\n        x = -x\\n    if y < 0:\\n        y = -y\\n    if x > 0:\\n        x = 0\\n    if y > 0:\\n        y = 0\\n    if x == 0:\\n        x = 1\\n    if y == 0:\\n        y = 1\\n    if x == 1:\\n        x = -1\\n    if y == 1:\\n        y = -1\\n    if x == 0:\\n        head_x = x\\n    if y == 0:\\n        head_y = y\\n    if x == 1:\\n        body_x = x\\n    if y == 1:\\n        body_y = y\\n    if x == 0:\\n        body_x = -body_x\\n    if y == 0:\\n        body_y = -body_y\\n    if x == 1:\\n        body_x = -body_x\\n    if y == 1:\\n        body_y = -body_y\\n    if x == 0:\\n        head_x = -head_x\\n    if y == 0:\\n        head_y = -head_y\\n    if x == 1:\\n        head_x = -head_x\\n    if y == 1:\\n        head_y = -head_y\\n    if x == 0:\\n        body_x = -body_x\\n    if y == 0:\\n        body_y = -body_y\\n    if x == 1:\\n        body_x = -body_x\\n    if y == 1:\\n        body_y = -body_y\\n    if x == 0:\\n        body_x = -body_x\\n    if y == 0:\\n        body_y = -body_y\\n    if x == 1:\\n        body_x = -body_x\\n    if y == 1:\\n        body_y = -body_y\\n    if x == 0:\\n        body_x = -body_x\\n    if y == 0:\\n        body_y = -body_y\\n    if x == 1:\\n        body_x = -body_x\\n    if y == 1:\\n        body_y = -body_y\\n    if x == 0:\\n        body_x = -body_x\\n    if y == 0:\\n        body_y = -body_y\\n    if x == 1:\\n        body_x = -body_x\\n    if y == 1:\\n        body_y = -body_y\\n    if x == 0:\\n        body_x = -body_x\\n    if y == 0:\\n        body_y = -body_y\\n    if x == 1:\\n        body_x = -body_x\\n    if y == 1:\\n        body_y = -body_y\\n    if x == 0:\\n        body_x = -body_x\\n    if y == 0:\\n        body_y = -body_y\\n    if x == 1:\\n        body_x = -body_x\\n    if y == 1:\\n        body_y = -body_y\\n    if x == 0:\\n        body_x = -body_x\\n    if y == 0:\\n        body_y = -body_y\\n    if x == 1:\\n        body_x = -body_x\\n    if y == 1:\\n        body_y = -body_y\\n    if x == 0:\\n        body_x = -body_x\\n    if y == 0:\\n        body_y = -body_y\\n    if x == 1:\\n        body_x = -body_x\\n    if y == 1:\\n        body_y = -body_y\\n    if x == 0:\\n        body_x = -body_x\\n    if y == 0:\\n        body_y = -body_y\\n    if x == 1:\\n        body_x = -body_x\\n    if y == 1:\\n        body_y = -body_y\\n    if x == 0:\\n        body_x = -body_x\\n    if y == 0:\\n        body_y = -body_y\\n    if x == 1:\\n        body_x = -body_x\\n    if y == 1:\\n        body_y = -body_y\\n    if x == 0:\\n        body_x = -body_x\\n    if y == 0:\\n        body_y = -body_y\\n    if x == 1:\\n        body_x = -body_x\\n    if y == 1:\\n        body_y = -body_y\\n    if x == 0:\\n        body_x = -body_x\\n    if y == 0:\\n        body_y = -body_y\\n    if x == 1:\\n        body_x = -body_x\\n    if y == 1:\\n        body_y = -body_y\\n    if x == 0:\\n        body_x = -body_x\\n    if y == 1:\\n        body_y = -body_y\\n    if x == 1:\\n        body_x = -body_x\\n    if y == 0:\\n        body_y = -body_y\\n    if x == 1:\\n        body_x = -body_x\\n    if y == 1:\\n        body_y = -body_y\\n    if x == 0:\\n        body_x = -body_x\\n    if y == 1:\\n        body_y = -body_y\\n    if x == 1:\\n        body_x = -body_x\\n    if y == 0:\\n        body_y = -body_y\\n    if x == 1:\\n        body_x = -body_x\\n    if y == 1:\\n        body_y = -body_y\\n    if x == 0:\\n        body_x = -body_x\\n    if y == 1:\\n        body_y = -body_y\\n    if x == 1:\\n        body_x = -body_x\\n    if y == 0:\\n        body_y = -body_y\\n    if x == 1:\\n        body_x = -body_x\\n    if y == 1:\\n        body_y = -body_y\\n    if x == 0:\\n        body_x = -body_x\\n    if y == 1:\\n        body_y = -body_y\\n    if x == 1:\\n        body_x = -body_x\\n    if y == 0:\\n        body_y = -body_y\\n    if x == 1:\\n        body_x = -body_x\\n    if y == 1:\\n        body_y = -body_y\\n    if x == 0:\\n        body_x = -body_x\\n    if y == 1:\\n        body_y = -body_y\\n    if x == 1:\\n        body_x = -body_x\\n    if y == 0:\\n        body_y = -body_y\\n    if x == 1:\\n        body_x = -body_x\\n    if y == 1:\\n        body_y = -body_y\\n    if x == 0:\\n        body_x = -body_x\\n    if y == 1:\\n        body_y = -body_y\\n    if x == 1:\\n        body_x = -body_x\\n    if y == 0:\\n        body_y = -body_y\\n    if x == 1:\\n        body_x = -body_x\\n    if y == 1:\\n       \",\n",
       " '\\nThe meaning of life is a philosophical question that has been debated for centuries. Some believe it is to find happiness, others believe it is to fulfill a purpose or destiny, while others believe it is to make a positive impact on the world. Ultimately, the meaning of life is subjective and can vary from person to person.',\n",
       " \"\\nTo create a snake game, you will need to use a loop to move the snake's head and body. You can use a variable to keep track of the snake's position and update it as needed. Here's an example code snippet:\\n\\n```python\\nimport turtle\\n\\ndef move_snake(x, y, head_x, head_y, body_x, body_y):\\n    if x < 0:\\n        x = -x\\n    if y < 0:\\n        y = -y\\n    if x > 0:\\n        x = 0\\n    if y > 0:\\n        y = 0\\n    if head_x > 0:\\n        head_x = 0\\n    if head_y > 0:\\n        head_y = 0\\n    if body_x > 0:\\n        body_x = 0\\n    if body_y > 0:\\n        body_y = 0\\n    if x < 0:\\n        x = -x\\n    if y < 0:\\n        y = -y\\n    if head_x < 0:\\n        head_x = -head_x\\n    if head_y < 0:\\n        head_y = -head_y\\n    if body_x < 0:\\n        body_x = -body_x\\n    if body_y < 0:\\n        body_y = -body_y\\n    if x > 0:\\n        x = 0\\n    if y > 0:\\n        y = 0\\n    if head_x > 0:\\n        head_x = 0\\n    if head_y > 0:\\n        head_y = 0\\n    if body_x > 0:\\n        body_x = 0\\n    if body_y > 0:\\n        body_y = 0\\n    if x < 0:\\n        x = -x\\n    if y < 0:\\n        y = -y\\n    if head_x < 0:\\n        head_x = -head_x\\n    if head_y < 0:\\n        head_y = -head_y\\n    if body_x < 0:\\n        body_x = -body_x\\n    if body_y < 0:\\n        body_y = -body_y\\n    if x > 0:\\n        x = 0\\n    if y > 0:\\n        y = 0\\n    if head_x > 0:\\n        head_x = 0\\n    if head_y > 0:\\n        head_y = 0\\n    if body_x > 0:\\n        body_x = 0\\n    if body_y > 0:\\n        body_y = 0\\n    if x < 0:\\n        x = -x\\n    if y < 0:\\n        y = -y\\n    if head_x < 0:\\n        head_x = -head_x\\n    if head_y < 0:\\n        head_y = -head_y\\n    if body_x < 0:\\n        body_x = -body_x\\n    if body_y < 0:\\n        body_y = -body_y\\n    if x > 0:\\n        x = 0\\n    if y > 0:\\n        y = 0\\n    if head_x > 0:\\n        head_x = 0\\n    if head_y > 0:\\n        head_y = 0\\n    if body_x > 0:\\n        body_x = 0\\n    if body_y > 0:\\n        body_y = 0\\n    if x < 0:\\n        x = -x\\n    if y < 0:\\n        y = -y\\n    if head_x < 0:\\n        head_x = -head_x\\n    if head_y < 0:\\n        head_y = -head_y\\n    if body_x < 0:\\n        body_x = -body_x\\n    if body_y < 0:\\n        body_y = -body_y\\n    if x > 0:\\n        x = 0\\n    if y > 0:\\n        y = 0\\n    if head_x > 0:\\n        head_x = 0\\n    if head_y > 0:\\n        head_y = 0\\n    if body_x > 0:\\n        body_x = 0\\n    if body_y > 0:\\n        body_y = 0\\n    if x < 0:\\n        x = -x\\n    if y < 0:\\n        y = -y\\n    if head_x < 0:\\n        head_x = -head_x\\n    if head_y < 0:\\n        head_y = -head_y\\n    if body_x < 0:\\n        body_x = -body_x\\n    if body_y < 0:\\n        body_y = -body_y\\n    if x > 0:\\n        x = 0\\n    if y > 0:\\n        y = 0\\n    if head_x > 0:\\n        head_x = 0\\n    if head_y > 0:\\n        head_y = 0\\n    if body_x > 0:\\n        body_x = 0\\n    if body_y > 0:\\n        body_y = 0\\n    if x < 0:\\n        x = -x\\n    if y < 0:\\n        y = -y\\n    if head_x < 0:\\n        head_x = -head_x\\n    if head_y < 0:\\n        head_y = -head_y\\n    if body_x < 0:\\n        body_x = -body_x\\n    if body_y < 0:\\n        body_y = -body_y\\n    if x > 0:\\n        x = 0\\n    if y > 0:\\n        y = 0\\n    if head_x < 0:\\n        head_x = 0\\n    if head_y < 0:\\n        head_y = 0\\n    if body_x < 0:\\n        body_x = 0\\n    if body_y < 0:\\n        body_y = 0\\n    if x < 0:\\n        x = -x\\n    if y < 0:\\n        y = -y\\n    if head_x < 0:\\n        head_x = -head_x\\n    if head_y < 0:\\n        head_y = -head_y\\n    if body_x < 0:\\n        body_x = -body_x\\n    if body_y < 0:\\n        body_y = -body_y\\n    if x > 0:\\n        x = 0\\n    if y > 0:\\n        y = 0\\n    if head_x < 0:\\n        head_x = 0\\n    if head_y < 0:\\n        head_y = 0\\n    if body_x < 0:\\n        body_x = 0\\n    if body_y < 0:\\n        body_y = 0\\n    if x > 0:\\n        x = 0\\n    if y < 0:\\n        y = 0\\n    if head_x > 0:\\n        head_x = 0\\n    if head_y > 0:\\n        head_y = 0\\n    if body_x > 0:\\n        body_x = 0\\n    if body_y > 0:\\n        body_y = 0\\n    if x < 0:\\n        x = -x\\n    if y < 0:\\n        y = -y\\n    if head_x < 0:\\n        head_x = -head_x\\n    if head_y < 0:\\n        head_y = -head_y\\n    if body_x < 0:\\n        body_x = -body_x\\n    if body_y < 0:\\n        body_y = -body_y\\n    if x > 0:\\n        x = 0\\n    if y > 0:\\n        y = 0\\n    if head_x < 0:\\n        head_x = 0\\n    if head_y < 0:\\n        head_y = 0\\n    if body_x < \",\n",
       " \"\\nHere is a code for an angry birds game:\\n\\n1. First, you need to create a canvas element and set its width and height to the size of the screen.\\n2. Then, you need to create a loop that will iterate through each bird and its coordinates.\\n3. Inside the loop, you need to create a new canvas element and set its position to the bird's coordinates.\\n4. Next, you need to create a new canvas element and set its width and height to the size of the bird.\\n5. Inside the loop, you need to draw the bird onto the canvas element.\\n6. After drawing the bird, you need to create a new canvas element and set its position to the bird's coordinates.\\n7. Inside the loop, you need to create a new canvas element and set its width and height to the size of the bird.\\n8. Inside the loop, you need to draw the bird onto the canvas element.\\n9. After drawing the bird, you need to create a new canvas element and set its position to the bird's coordinates.\\n10. Inside the loop, you need to create a new canvas element and set its width and height to the size of the bird.\\n11. Inside the loop, you need to draw the bird onto the canvas element.\\n12. After drawing the bird, you need to create a new canvas element and set its position to the bird's coordinates.\\n13. Inside the loop, you need to create a new canvas element and set its width and height to the size of the bird.\\n14. Inside the loop, you need to draw the bird onto the canvas element.\\n15. After drawing the bird, you need to create a new canvas element and set its position to the bird's coordinates.\\n16. Inside the loop, you need to create a new canvas element and set its width and height to the size of the bird.\\n17. Inside the loop, you need to draw the bird onto the canvas element.\\n18. After drawing the bird, you need to create a new canvas element and set its position to the bird's coordinates.\\n19. Inside the loop, you need to create a new canvas element and set its width and height to the size of the bird.\\n20. Inside the loop, you need to draw the bird onto the canvas element.\\n21. After drawing the bird, you need to create a new canvas element and set its position to the bird's coordinates.\\n22. Inside the loop, you need to create a new canvas element and set its width and height to the size of the bird.\\n23. Inside the loop, you need to draw the bird onto the canvas element.\\n24. After drawing the bird, you need to create a new canvas element and set its position to the bird's coordinates.\\n25. Inside the loop, you need to create a new canvas element and set its width and height to the size of the bird.\\n26. Inside the loop, you need to draw the bird onto the canvas element.\\n27. After drawing the bird, you need to create a new canvas element and set its position to the bird's coordinates.\\n28. Inside the loop, you need to create a new canvas element and set its width and height to the size of the bird.\\n29. Inside the loop, you need to draw the bird onto the canvas element.\\n30. After drawing the bird, you need to create a new canvas element and set its position to the bird's coordinates.\\n31. Inside the loop, you need to create a new canvas element and set its width and height to the size of the bird.\\n32. Inside the loop, you need to draw the bird onto the canvas element.\\n33. After drawing the bird, you need to create a new canvas element and set its position to the bird's coordinates.\\n34. Inside the loop, you need to create a new canvas element and set its width and height to the size of the bird.\\n35. Inside the loop, you need to draw the bird onto the canvas element.\\n36. After drawing the bird, you need to create a new canvas element and set its position to the bird's coordinates.\\n37. Inside the loop, you need to create a new canvas element and set its width and height to the size of the bird.\\n38. Inside the loop, you need to draw the bird onto the canvas element.\\n39. After drawing the bird, you need to create a new canvas element and set its position to the bird's coordinates.\\n40. Inside the loop, you need to create a new canvas element and set its width and height to the size of the bird.\\n41. Inside the loop, you need to draw the bird onto the canvas element.\\n42. After drawing the bird, you need to create a new canvas element and set its position to the bird's coordinates.\\n43. Inside the loop, you need to create a new canvas element and set its width and height to the size of the bird.\\n44. Inside the loop, you need to draw the bird onto the canvas element.\\n45. After drawing the bird, you need to create a new canvas element and set its position to the bird's coordinates.\\n46. Inside the loop, you need to create a new canvas element and set its width and height to the size of the bird.\\n47. Inside the loop, you need to draw the bird onto the canvas element.\\n48. After drawing the bird, you need to create a new canvas element and set its position to the bird's coordinates.\\n49. Inside the loop, you need to create a new canvas element and set its width and height to the size of the bird.\\n50. Inside the loop, you need to draw the bird onto the canvas element.\\n51. After drawing the bird, you need to create a new canvas element and set its position to the bird's coordinates.\\n52. Inside the loop, you need to create a new canvas element and set its width and height to the size of the bird.\\n53. Inside the loop, you need to draw the bird onto the canvas element.\\n54. After drawing the bird, you need to create a new canvas element and set its position to the bird's coordinates.\\n55. Inside the loop, you need to create a new canvas element and set its width and height to the size of the bird.\\n56. Inside the loop, you need to draw the bird onto the canvas element.\\n57. After drawing the bird, you need to create a new canvas element and set its position to the bird's coordinates.\\n58. Inside the loop, you need to create a new canvas element and set its width and height to the size of the bird.\\n59. Inside the loop, you need to draw the bird onto the canvas element.\\n60. After drawing the bird, you need to create a new canvas element and set its position to the bird's coordinates.\\n61. Inside the loop, you need to create a new canvas element and set its width and height to the size of the bird.\\n62. Inside the loop, you need to draw the bird onto the canvas element.\\n63. After drawing the bird, you need to create a new canvas element and set its position to the bird's coordinates.\\n64. Inside the loop, you need to create a new canvas element and set its width and height to the size of the bird.\\n65. Inside the loop, you need to draw the bird onto the canvas element.\\n66. After drawing the bird, you need to create a new canvas element and set its position to the bird's coordinates.\\n67. Inside the loop, you need to create a new canvas element and set its width and height to the size of the bird.\\n68. Inside the loop, you need to draw the bird onto the canvas element.\\n69. After drawing the bird, you need to create a new canvas element and set its position to the bird's coordinates.\\n70. Inside the loop, you need to create a new canvas element and set its width and height to the size of the bird.\\n71. Inside the loop, you need to draw the bird onto the canvas element.\\n72. After drawing the bird, you need to create a new canvas element and set its position to the bird's coordinates.\\n73. Inside the loop, you need to create a new canvas element and set its width and height to the size of the bird.\\n74. Inside the loop, you need to draw the bird onto the canvas element.\\n75. After drawing the bird, you need to create a new canvas element and set its position to the bird's coordinates.\\n76. Inside the loop, you need to create a new canvas element and set its width and height to the size of the bird.\\n77. Inside the loop, you need to draw the bird onto the canvas element.\\n78. After drawing the bird, you need to create a new canvas element and set its position to the bird's coordinates.\\n79. Inside the loop, you need to create a new canvas element and set its width and height to the size of the bird.\\n80. Inside the loop, you need to draw the bird onto the canvas element.\\n81. After drawing the bird, you need to create a new canvas element and set its position to the bird's coordinates.\\n82. Inside the loop, you need to create a new canvas element and set its width\"]"
      ]
     },
     "execution_count": 9,
     "metadata": {},
     "output_type": "execute_result"
    }
   ],
   "source": [
    "out"
   ]
  },
  {
   "cell_type": "code",
   "execution_count": 3,
   "metadata": {},
   "outputs": [],
   "source": [
    "import requests\n",
    "import json"
   ]
  },
  {
   "cell_type": "code",
   "execution_count": 1,
   "metadata": {},
   "outputs": [
    {
     "ename": "NameError",
     "evalue": "name 'json' is not defined",
     "output_type": "error",
     "traceback": [
      "\u001b[1;31m---------------------------------------------------------------------------\u001b[0m",
      "\u001b[1;31mNameError\u001b[0m                                 Traceback (most recent call last)",
      "Cell \u001b[1;32mIn[1], line 10\u001b[0m\n\u001b[0;32m      4\u001b[0m data \u001b[38;5;241m=\u001b[39m {\n\u001b[0;32m      5\u001b[0m     \u001b[38;5;124m\"\u001b[39m\u001b[38;5;124mkey1\u001b[39m\u001b[38;5;124m\"\u001b[39m: \u001b[38;5;124m\"\u001b[39m\u001b[38;5;124mvalue1\u001b[39m\u001b[38;5;124m\"\u001b[39m,\n\u001b[0;32m      6\u001b[0m     \u001b[38;5;124m\"\u001b[39m\u001b[38;5;124mkey2\u001b[39m\u001b[38;5;124m\"\u001b[39m: \u001b[38;5;124m\"\u001b[39m\u001b[38;5;124mvalue2\u001b[39m\u001b[38;5;124m\"\u001b[39m\n\u001b[0;32m      7\u001b[0m }\n\u001b[0;32m      9\u001b[0m \u001b[38;5;66;03m# Convert your data to JSON format.\u001b[39;00m\n\u001b[1;32m---> 10\u001b[0m data_json \u001b[38;5;241m=\u001b[39m json\u001b[38;5;241m.\u001b[39mdumps(data)\n\u001b[0;32m     12\u001b[0m \u001b[38;5;66;03m# Make the POST request, including the json data and appropriate headers.\u001b[39;00m\n\u001b[0;32m     13\u001b[0m response \u001b[38;5;241m=\u001b[39m requests\u001b[38;5;241m.\u001b[39mpost(url, data\u001b[38;5;241m=\u001b[39mdata_json, headers\u001b[38;5;241m=\u001b[39m{\u001b[38;5;124m\"\u001b[39m\u001b[38;5;124mContent-Type\u001b[39m\u001b[38;5;124m\"\u001b[39m: \u001b[38;5;124m\"\u001b[39m\u001b[38;5;124mapplication/json\u001b[39m\u001b[38;5;124m\"\u001b[39m})\n",
      "\u001b[1;31mNameError\u001b[0m: name 'json' is not defined"
     ]
    }
   ],
   "source": [
    "url = \"http://localhost:8000/\"\n",
    "\n",
    "# The data you want to send in your POST request.\n",
    "data = {\n",
    "    \"key1\": \"value1\",\n",
    "    \"key2\": \"value2\"\n",
    "}\n",
    "\n",
    "# Convert your data to JSON format.\n",
    "data_json = json.dumps(data)\n",
    "\n",
    "# Make the POST request, including the json data and appropriate headers.\n",
    "response = requests.post(url, data=data_json, headers={\"Content-Type\": \"application/json\"})\n",
    "\n",
    "# Check the response (optional).\n",
    "print(response.text)"
   ]
  },
  {
   "cell_type": "code",
   "execution_count": 30,
   "metadata": {},
   "outputs": [],
   "source": [
    "from openai import OpenAI\n",
    "from constants import EVALUATION_SYS_PROMPT, dummy_code\n",
    "\n",
    "\n",
    "# Modify OpenAI's API key and API base to use vLLM's API server.\n",
    "openai_api_key = \"not_needed\"\n",
    "openai_api_base = \"http://localhost:8000/v1\"\n",
    "client = OpenAI(\n",
    "    api_key=openai_api_key,\n",
    "    base_url=openai_api_base\n",
    ")\n",
    "\n",
    "#\"TheBloke/WizardCoder-Python-13B-V1.0-AWQ\" \"TheBloke/WizardCoder-Python-34B-V1.0-AWQ\", \"m-a-p/OpenCodeInterpreter-CL-7B\"\n",
    "# \"cognitivecomputations/dolphincoder-starcoder2-7b\"  \"TheBloke/WizardCoder-Python-34B-V1.0-AWQ\"\n",
    "response = client.chat.completions.create(model= \"m-a-p/OpenCodeInterpreter-CL-7B\",\n",
    "                                    #   prompt=[\"San Francisco is a\"],\n",
    "                                       \n",
    "  messages=[\n",
    "    {\"role\": \"system\", \"content\": EVALUATION_SYS_PROMPT},\n",
    "    {\"role\": \"user\", \"content\": dummy_code}],\n",
    "    n=8,\n",
    "    stream=False)\n",
    "# print(\"Completion result:\", completion)"
   ]
  },
  {
   "cell_type": "code",
   "execution_count": 50,
   "metadata": {},
   "outputs": [
    {
     "data": {
      "text/plain": [
       "{'data': [{'id': 'Loaded from Chat UI',\n",
       "   'object': 'model',\n",
       "   'owned_by': 'organization-owner',\n",
       "   'permission': [{}]}],\n",
       " 'object': 'list'}"
      ]
     },
     "execution_count": 50,
     "metadata": {},
     "output_type": "execute_result"
    }
   ],
   "source": [
    "import json\n",
    "import requests\n",
    "\n",
    "json.loads(requests.get(\"http://localhost:1234/v1/models\", timeout=0.2).text)#[\"data\"][0][\"id\"]"
   ]
  },
  {
   "cell_type": "code",
   "execution_count": 32,
   "metadata": {},
   "outputs": [
    {
     "name": "stdout",
     "output_type": "stream",
     "text": [
      " Here's a way to create a test file for the given code using pytest:\n",
      "\n",
      "```python:test.py\n",
      "import sys\n",
      "sys.path.append(\".\")  # add the source.py file in the same directory\n",
      "from source import maxCntRemovedfromArray\n",
      "\n",
      "def test_maxCntRemovedfromArray():\n",
      "    arr = [1, 2, 4, 6]\n",
      "    brr = [7]\n",
      "    N = len(arr)\n",
      "    M = len(brr)\n",
      "    assert maxCntRemovedfromArray(arr, N, brr, M) == 1\n",
      "```\n",
      "\n",
      "To run the test with pytest:\n",
      "\n",
      "```shell\n",
      "pytest -v\n",
      "```\n",
      "\n",
      "This will automatically discover the test and run it, giving you output like:\n",
      "\n",
      "```shell\n",
      "...\n",
      "PASSED test.py::test_maxCntRemovedfromArray - maxCntRemovedfromArray(arr, N, brr, M)\n",
      "```\n",
      "\n",
      "If the function implementation in `source.py` is correct, you should see the above test pass. \n",
      "\n",
      "If there were any errors in `source.py`, pytest would give you line numbers and details about what failed. You would then need to update `test.py` to properly test the revised `source.py`.\n",
      "\n",
      "If you want to increase code coverage, you might consider adding more tests, including different inputs, to `test_maxCntRemovedfromArray()` to ensure all possible code paths and conditions are hit. For example:\n",
      "\n",
      "```python:test.py\n",
      "def test_maxCntRemovedfromArray():\n",
      "    arr = [1, 2, 4, 6]\n",
      "    brr = [7]\n",
      "    N = len(arr)\n",
      "    M = len(brr)\n",
      "    assert maxCntRemovedfromArray(arr, N, brr, M) == 1\n",
      "\n",
      "    arr = [1, 2]\n",
      "    brr = [1, 2]\n",
      "    N = len(arr)\n",
      "    M = len(brr)\n",
      "    assert maxCntRemovedfromArray(arr, N, brr, M) == 0\n",
      "\n",
      "    arr = [1, 2, 3, 4]\n",
      "    brr = [1, 2, 3, 4]\n",
      "    N = len(arr)\n",
      "    M = len(brr)\n",
      "    assert maxCntRemovedfromArray(arr, N, brr, M) == 0\n",
      "\n",
      "    arr = [5, 4, 3, 2, 1]\n",
      "    brr = [1, 2, 3, 4, 5]\n",
      "    N = len(arr)\n",
      "    M = len(brr)\n",
      "    assert maxCntRemovedfromArray(arr, N, brr, M) == 4\n",
      "```\n",
      "\n",
      "Remember, thorough testing is key to finding and fixing bugs, so make sure to include as many tests as necessary to cover all potential scenarios.\n"
     ]
    }
   ],
   "source": [
    "print(response.choices[7].message.content)"
   ]
  },
  {
   "cell_type": "code",
   "execution_count": 22,
   "metadata": {},
   "outputs": [
    {
     "name": "stdout",
     "output_type": "stream",
     "text": [
      "Here's the test file for the given code using pytest framework. \n",
      "\n",
      "```python\n",
      "import pytest\n",
      "from source import maxCntRemovedfromArray\n",
      "\n",
      "def test_maxCntRemovedfromArray():\n",
      "    arr = [1, 2, 4, 6]\n",
      "    brr = [7]\n",
      "    N = len(arr)\n",
      "    M = len(brr)\n",
      "    assert maxCntRemovedfromArray(arr, N, brr, M) == 3\n",
      "```\n",
      "\n",
      "To run the test file, save it as `test_source.py` and execute the following command in your terminal:\n",
      "\n",
      "\n",
      "```bash\n",
      "pytest test_source.py\n",
      "```\n",
      "\n",
      "This should give you a passing test case with 100% coverage. To increase code coverage, we can add more test cases to the file. For example:\n",
      "\n",
      "\n",
      "```python\n",
      "import pytest\n",
      "from source import maxCntRemovedfromArray\n",
      "\n",
      "def test_maxCntRemovedfromArray():\n",
      "    arr = [1, 2, 4, 6]\n",
      "    brr = [7]\n",
      "    N = len(arr)\n",
      "    M = len(brr)\n",
      "    assert maxCntRemovedfromArray(arr, N, brr, M) == 3\n",
      "\n",
      "def test_maxCntRemovedfromArray_same_arrays():\n",
      "    arr = [1, 2, 3]\n",
      "    brr = [1, 2, 3]\n",
      "    N = len(arr)\n",
      "    M = len(brr)\n",
      "    assert maxCntRemovedfromArray(arr, N, brr, M) == 0\n",
      "\n",
      "def test_maxCntRemovedfromArray_empty_arrays():\n",
      "    arr = []\n",
      "    brr = []\n",
      "    N = len(arr)\n",
      "    M = len(brr)\n",
      "    assert maxCntRemovedfromArray(arr, N, brr, M) == 0\n",
      "    \n",
      "def test_maxCntRemovedfromArray_single_element():\n",
      "    arr = [1]\n",
      "    brr = [2]\n",
      "    N = len(arr)\n",
      "    M = len(brr)\n",
      "    assert maxCntRemovedfromArray(arr, N, brr, M) == 1\n",
      "    \n",
      "def test_maxCntRemovedfromArray_negative():\n",
      "    arr = [-1, -2, 4, 6]\n",
      "    brr = [7, 8]\n",
      "    N = len(arr)\n",
      "    M = len(brr)\n",
      "    assert maxCntRemovedfromArray(arr, N, brr, M) == 3\n",
      "    \n",
      "def test_maxCntRemovedfromArray_float():\n",
      "    arr = [1.5, 2.5, 4.5]\n",
      "    brr = [7.5]\n",
      "    N = len(arr)\n",
      "    M = len(brr)\n",
      "    assert maxCntRemovedfromArray(arr, N, brr, M) == 3\n",
      "    \n",
      "def test_maxCntRemovedfromArray_large_arrays():\n",
      "    arr = [i for i in range(100)]\n",
      "    brr = [i+1 for i in range(100)]\n",
      "    N = len(arr)\n",
      "    M = len(brr)\n",
      "    assert maxCntRemovedfromArray(arr, N, brr, M) == 50\n",
      "    \n",
      "def test_maxCntRemovedfromArray_mismatched_length():\n",
      "    arr = [1, 2]\n",
      "    brr = [3, 4, 5]\n",
      "    N = len(arr)\n",
      "    M = len(brr)\n",
      "    with pytest.raises(ValueError):\n",
      "        maxCntRemovedfromArray(arr, N, brr, M)\n",
      "```\n",
      "\n",
      "Now, the coverage is increased to 100%. You can further increase it by adding more test cases based on your understanding of the function and edge cases. \n"
     ]
    }
   ],
   "source": [
    "from openai import OpenAI\n",
    "\n",
    "# Point to the local server\n",
    "client = OpenAI(base_url=\"http://localhost:1234/v1\", api_key=\"lm-studio\")\n",
    "\n",
    "messages=[\n",
    "{\"role\": \"system\", \"content\": EVALUATION_SYS_PROMPT},\n",
    "{\"role\": \"user\", \"content\": dummy_code}]\n",
    "\n",
    "completion = client.chat.completions.create(\n",
    "    model=\"local-model\", # this field is currently unused\n",
    "    messages=messages,\n",
    "    temperature=0.7,\n",
    "    stream=False,\n",
    ")\n",
    "\n",
    "new_message = {\"role\": \"assistant\", \"content\": \"\"}\n",
    "    \n",
    "    \n",
    "print(completion.choices[0].message.content)\n"
   ]
  },
  {
   "cell_type": "code",
   "execution_count": 23,
   "metadata": {},
   "outputs": [
    {
     "ename": "RuntimeError",
     "evalue": "asyncio.run() cannot be called from a running event loop",
     "output_type": "error",
     "traceback": [
      "\u001b[1;31m---------------------------------------------------------------------------\u001b[0m",
      "\u001b[1;31mRuntimeError\u001b[0m                              Traceback (most recent call last)",
      "Cell \u001b[1;32mIn[23], line 39\u001b[0m\n\u001b[0;32m     36\u001b[0m         \u001b[38;5;28mprint\u001b[39m(result)\n\u001b[0;32m     38\u001b[0m \u001b[38;5;66;03m# Run the main coroutine\u001b[39;00m\n\u001b[1;32m---> 39\u001b[0m asyncio\u001b[38;5;241m.\u001b[39mrun(main())\n",
      "File \u001b[1;32mc:\\ProgramData\\anaconda3\\Lib\\asyncio\\runners.py:186\u001b[0m, in \u001b[0;36mrun\u001b[1;34m(main, debug)\u001b[0m\n\u001b[0;32m    161\u001b[0m \u001b[38;5;250m\u001b[39m\u001b[38;5;124;03m\"\"\"Execute the coroutine and return the result.\u001b[39;00m\n\u001b[0;32m    162\u001b[0m \n\u001b[0;32m    163\u001b[0m \u001b[38;5;124;03mThis function runs the passed coroutine, taking care of\u001b[39;00m\n\u001b[1;32m   (...)\u001b[0m\n\u001b[0;32m    182\u001b[0m \u001b[38;5;124;03m    asyncio.run(main())\u001b[39;00m\n\u001b[0;32m    183\u001b[0m \u001b[38;5;124;03m\"\"\"\u001b[39;00m\n\u001b[0;32m    184\u001b[0m \u001b[38;5;28;01mif\u001b[39;00m events\u001b[38;5;241m.\u001b[39m_get_running_loop() \u001b[38;5;129;01mis\u001b[39;00m \u001b[38;5;129;01mnot\u001b[39;00m \u001b[38;5;28;01mNone\u001b[39;00m:\n\u001b[0;32m    185\u001b[0m     \u001b[38;5;66;03m# fail fast with short traceback\u001b[39;00m\n\u001b[1;32m--> 186\u001b[0m     \u001b[38;5;28;01mraise\u001b[39;00m \u001b[38;5;167;01mRuntimeError\u001b[39;00m(\n\u001b[0;32m    187\u001b[0m         \u001b[38;5;124m\"\u001b[39m\u001b[38;5;124masyncio.run() cannot be called from a running event loop\u001b[39m\u001b[38;5;124m\"\u001b[39m)\n\u001b[0;32m    189\u001b[0m \u001b[38;5;28;01mwith\u001b[39;00m Runner(debug\u001b[38;5;241m=\u001b[39mdebug) \u001b[38;5;28;01mas\u001b[39;00m runner:\n\u001b[0;32m    190\u001b[0m     \u001b[38;5;28;01mreturn\u001b[39;00m runner\u001b[38;5;241m.\u001b[39mrun(main)\n",
      "\u001b[1;31mRuntimeError\u001b[0m: asyncio.run() cannot be called from a running event loop"
     ]
    }
   ],
   "source": [
    "import asyncio\n",
    "from openai import OpenAI\n",
    "\n",
    "# Assuming `openai.OpenAI` has an asynchronous equivalent or a way to be used asynchronously.\n",
    "# If not, you'll need to adapt this to run the synchronous code in an asynchronous event loop.\n",
    "\n",
    "# Define an asynchronous function to make the API call\n",
    "async def async_api_call(client, messages):\n",
    "    # Simulate an asynchronous call to the API\n",
    "    # In practice, you would use an asynchronous method of the client here\n",
    "    completion = await asyncio.get_event_loop().run_in_executor(None, client.chat.completions.create,\n",
    "        model=\"local-model\", # this field is currently unused\n",
    "        messages=messages,\n",
    "        temperature=0.7,\n",
    "        stream=False,\n",
    "    )\n",
    "    return completion.choices[0].message.content\n",
    "\n",
    "# Create an instance of the OpenAI client\n",
    "client = OpenAI(base_url=\"http://localhost:1234/v1\", api_key=\"lm-studio\")\n",
    "messages = [\n",
    "    {\"role\": \"system\", \"content\": \"EVALUATION_SYS_PROMPT\"},\n",
    "    {\"role\": \"user\", \"content\": \"dummy_code\"}\n",
    "]\n",
    "\n",
    "# Define the main coroutine that runs both API calls asynchronously\n",
    "async def main():\n",
    "    # Run two API calls concurrently and wait for both to finish\n",
    "    results = await asyncio.gather(\n",
    "        async_api_call(client, messages),\n",
    "        async_api_call(client, messages),\n",
    "    )\n",
    "    \n",
    "    # Print the results\n",
    "    for result in results:\n",
    "        print(result)\n",
    "\n",
    "# Run the main coroutine\n",
    "asyncio.run(main())\n"
   ]
  },
  {
   "cell_type": "code",
   "execution_count": null,
   "metadata": {},
   "outputs": [],
   "source": []
  },
  {
   "cell_type": "code",
   "execution_count": null,
   "metadata": {},
   "outputs": [],
   "source": []
  },
  {
   "cell_type": "code",
   "execution_count": 6,
   "metadata": {},
   "outputs": [
    {
     "name": "stdout",
     "output_type": "stream",
     "text": [
      "\n",
      "\n",
      "\n",
      "\n",
      "\n",
      "\"\"<\"S|\n",
      "orryim\n",
      " for_import thesep py confusion|test,>\n",
      " I import need sys you\n",
      " to\n",
      " Mreatedef a max pyCtestnt fileRem foroved thisfrom codeArray.( Herearr',s N the, updated br coder:,\n",
      "):\n",
      "\n",
      "sort`` arrpython.\n",
      ")importreverse py=testFalse\n",
      "\n",
      "from    source i import = max C0nt\n",
      " em   oved sumfromArrArray =\n",
      "0\n",
      "\n",
      "   def for test i_ inmax rangeC(ntNRem):oved\n",
      " +=m       Array sum():Arr\n",
      " arr   [ arri =] [\n",
      "1   , sum Br2r, =  40,\n",
      " in 6 for] i\n",
      " range   ( brMr): =\n",
      "r[       7 sum]Br\n",
      " +=    br Nr =[ leni(]arr\n",
      "   \n",
      " c   nt MRem =E lenlem( =br r0)\n",
      "\n",
      "       while assert i max <C Nnt andRem sumovedArrfrom >=Array sum(Brarrr,: N\n",
      ",        br sumrArr, -= M arr)[ ==i ]3\n",
      "       \n",
      " i``` +=\n",
      "1\n",
      "\n",
      "       You if can sum runArr this >= code sum usingBr pyrtest: to\n",
      " see            if c itnt passesRem.E Iflem there +=' s1 any\n",
      " error   , return please c provident theRem traceEbacklem and\n",
      " I\n",
      "'defll test help_ youmax fixC itnt.Rem ovedfromArray():\n",
      "    arr = [1, 2, 4, 6]\n",
      "    brr = [7]\n",
      "    N = len(arr)\n",
      "    M = len(brr)\n",
      "    assert maxCntRemovedfromArray(arr, N, brr, M) == 2\n",
      "\n",
      "def test_maxCntRemovedfromArray2():\n",
      "    arr = [1, 2, 4, 6, 7]\n",
      "    brr = [5, 7]\n",
      "    N = len(arr)\n",
      "    M = len(brr)\n",
      "    assert maxCntRemovedfromArray(arr, N, brr, M) == 2\n",
      "\n",
      "def test_maxCntRemovedfromArray3():\n",
      "    arr = [1, 2, 4, 6, 7, 8]\n",
      "    brr = [5, 7, 10]\n",
      "    N = len(arr)\n",
      "    M = len(brr)\n",
      "    assert maxCntRemovedfromArray(arr, N, brr, M) == 3\n",
      "\n",
      "def test_maxCntRemovedfromArray4():\n",
      "    arr = [1, 2, 4, 6, 7, 8, 9, 10]\n",
      "    brr = [5, 7, 10, 12]\n",
      "    N = len(arr)\n",
      "    M = len(brr)\n",
      "    assert maxCntRemovedfromArray(arr, N, brr, M) == 3\n",
      "\n",
      "def test_maxCntRemovedfromArray5():\n",
      "    arr = [1, 2, 4, 6, 7, 8, 9, 10]\n",
      "    brr = [5, 7, 10, 12, 13, 14, 15]\n",
      "    N = len(arr)\n",
      "    M = len(brr)\n",
      "    assert maxCntRemovedfromArray(arr, N, brr, M) == 0\n",
      "\n",
      "def test_maxCntRemovedfromArray6():\n",
      "    arr = [1, 2, 4, 6, 7, 8, 9, 10]\n",
      "    brr = [5, 7, 10, 12, 13, 14, 15, 50]\n",
      "    N = len(arr)\n",
      "    M = len(brr)\n",
      "    assert maxCntRemovedfromArray(arr, N, brr, M) == 0\n",
      "\n",
      "def test_maxCntRemovedfromArray7():\n",
      "    arr = [1, 2, 4, 6, 7, 8, 9, 10]\n",
      "    brr = [1, 2, 4, 6, 7, 8, 9, 10]\n",
      "    N = len(arr)\n",
      "    M = len(brr)\n",
      "    assert maxCntRemovedfromArray(arr, N, brr, M) == 0\n",
      "\n",
      "def test_maxCntRemovedfromArray8():\n",
      "    arr = [1, 2, 4, 6, 7, 8, 9, 10]\n",
      "    brr = [5, 7, 10, 12, 13, 14, 15, 16, 17, 18, 19, 20]\n",
      "    N = len(arr)\n",
      "    M = len(brr)\n",
      "    assert maxCntRemovedfromArray(arr, N, brr, M) == 6\n",
      "\n",
      "def test_maxCntRemovedfromArray9():\n",
      "    arr = [10, 20, 30, 40, 50, 60, 70, 80, 90, 100]\n",
      "    brr = [15, 25, 35, 45, 55, 65, 75, 85, 95, 105, 115]\n",
      "    N = len(arr)\n",
      "    M = len(brr)\n",
      "    assert maxCntRemovedfromArray(arr, N, brr, M) == 3\n",
      "\n",
      "def test_maxCntRemovedfromArray10():\n",
      "    arr = [1, 2, 4, 6, 7, 8, 9, 10]\n",
      "    brr = [5, 7, 10, 12, 13, 14, 15, 50]\n",
      "    N = len(arr)\n",
      "    M = len(brr)\n",
      "    assert maxCntRemovedfromArray(arr, N, brr, M) == 0\n",
      "\n",
      "def test_maxCntRemovedfromArray11():\n",
      "    arr = [1, 2, 4, 6, 7, 8, 9, 10, 11, 12, 13, 14]\n",
      "    brr = [5, 7, 10, 12, 13, 14, 15]\n",
      "    N = len(arr)\n",
      "    M = len(brr)\n",
      "    assert maxCntRemovedfromArray(arr, N, brr, M) == 1\n",
      "\n",
      "def test_maxCntRemovedfromArray12():\n",
      "    arr = [1, 2, 4, 6, 7, 8, 9, 10, 11, 12, 13, 14]\n",
      "    brr = [5, 7, 10, 12, 13, 14, 15, 16, 17, 18, 19]\n",
      "    N = len(arr)\n",
      "    M = len(brr)\n",
      "    assert maxCntRemovedfromArray(arr, N, brr, M) == 2\n",
      "\n",
      "def test_maxCntRemovedfromArray13():\n",
      "    arr = [1, 2, 4, 6, 7, 8, 9, 10, 11, 12, 13, 14]\n",
      "    brr = [5, 7, 10, 12, 13, 14]\n",
      "    N = len(arr)\n",
      "    M = len(brr)\n",
      "    assert maxCntRemovedfromArray(arr, N, brr, M) == 1\n",
      "\n",
      "def test_maxCntRemovedfromArray14():\n"
     ]
    },
    {
     "ename": "KeyboardInterrupt",
     "evalue": "",
     "output_type": "error",
     "traceback": [
      "\u001b[1;31m---------------------------------------------------------------------------\u001b[0m",
      "\u001b[1;31mKeyboardInterrupt\u001b[0m                         Traceback (most recent call last)",
      "Cell \u001b[1;32mIn[6], line 3\u001b[0m\n\u001b[0;32m      1\u001b[0m \u001b[38;5;28;01mimport\u001b[39;00m \u001b[38;5;21;01mre\u001b[39;00m\n\u001b[0;32m      2\u001b[0m text \u001b[38;5;241m=\u001b[39m \u001b[38;5;124m\"\u001b[39m\u001b[38;5;124m\"\u001b[39m\n\u001b[1;32m----> 3\u001b[0m \u001b[38;5;28;01mfor\u001b[39;00m chunk \u001b[38;5;129;01min\u001b[39;00m response:\n\u001b[0;32m      4\u001b[0m     \u001b[38;5;28;01mif\u001b[39;00m chunk\u001b[38;5;241m.\u001b[39mchoices[\u001b[38;5;241m0\u001b[39m]\u001b[38;5;241m.\u001b[39mdelta\u001b[38;5;241m.\u001b[39mcontent \u001b[38;5;129;01mis\u001b[39;00m \u001b[38;5;129;01mnot\u001b[39;00m \u001b[38;5;28;01mNone\u001b[39;00m:\n\u001b[0;32m      6\u001b[0m         \u001b[38;5;28mprint\u001b[39m(chunk\u001b[38;5;241m.\u001b[39mchoices[\u001b[38;5;241m0\u001b[39m]\u001b[38;5;241m.\u001b[39mdelta\u001b[38;5;241m.\u001b[39mcontent, end\u001b[38;5;241m=\u001b[39m\u001b[38;5;124m\"\u001b[39m\u001b[38;5;124m\"\u001b[39m)\n",
      "File \u001b[1;32m~\\AppData\\Roaming\\Python\\Python311\\site-packages\\openai\\_streaming.py:44\u001b[0m, in \u001b[0;36mStream.__iter__\u001b[1;34m(self)\u001b[0m\n\u001b[0;32m     43\u001b[0m \u001b[38;5;28;01mdef\u001b[39;00m \u001b[38;5;21m__iter__\u001b[39m(\u001b[38;5;28mself\u001b[39m) \u001b[38;5;241m-\u001b[39m\u001b[38;5;241m>\u001b[39m Iterator[_T]:\n\u001b[1;32m---> 44\u001b[0m     \u001b[38;5;28;01mfor\u001b[39;00m item \u001b[38;5;129;01min\u001b[39;00m \u001b[38;5;28mself\u001b[39m\u001b[38;5;241m.\u001b[39m_iterator:\n\u001b[0;32m     45\u001b[0m         \u001b[38;5;28;01myield\u001b[39;00m item\n",
      "File \u001b[1;32m~\\AppData\\Roaming\\Python\\Python311\\site-packages\\openai\\_streaming.py:56\u001b[0m, in \u001b[0;36mStream.__stream__\u001b[1;34m(self)\u001b[0m\n\u001b[0;32m     53\u001b[0m process_data \u001b[38;5;241m=\u001b[39m \u001b[38;5;28mself\u001b[39m\u001b[38;5;241m.\u001b[39m_client\u001b[38;5;241m.\u001b[39m_process_response_data\n\u001b[0;32m     54\u001b[0m iterator \u001b[38;5;241m=\u001b[39m \u001b[38;5;28mself\u001b[39m\u001b[38;5;241m.\u001b[39m_iter_events()\n\u001b[1;32m---> 56\u001b[0m \u001b[38;5;28;01mfor\u001b[39;00m sse \u001b[38;5;129;01min\u001b[39;00m iterator:\n\u001b[0;32m     57\u001b[0m     \u001b[38;5;28;01mif\u001b[39;00m sse\u001b[38;5;241m.\u001b[39mdata\u001b[38;5;241m.\u001b[39mstartswith(\u001b[38;5;124m\"\u001b[39m\u001b[38;5;124m[DONE]\u001b[39m\u001b[38;5;124m\"\u001b[39m):\n\u001b[0;32m     58\u001b[0m         \u001b[38;5;28;01mbreak\u001b[39;00m\n",
      "File \u001b[1;32m~\\AppData\\Roaming\\Python\\Python311\\site-packages\\openai\\_streaming.py:48\u001b[0m, in \u001b[0;36mStream._iter_events\u001b[1;34m(self)\u001b[0m\n\u001b[0;32m     47\u001b[0m \u001b[38;5;28;01mdef\u001b[39;00m \u001b[38;5;21m_iter_events\u001b[39m(\u001b[38;5;28mself\u001b[39m) \u001b[38;5;241m-\u001b[39m\u001b[38;5;241m>\u001b[39m Iterator[ServerSentEvent]:\n\u001b[1;32m---> 48\u001b[0m     \u001b[38;5;28;01myield from\u001b[39;00m \u001b[38;5;28mself\u001b[39m\u001b[38;5;241m.\u001b[39m_decoder\u001b[38;5;241m.\u001b[39miter(\u001b[38;5;28mself\u001b[39m\u001b[38;5;241m.\u001b[39mresponse\u001b[38;5;241m.\u001b[39miter_lines())\n",
      "File \u001b[1;32m~\\AppData\\Roaming\\Python\\Python311\\site-packages\\openai\\_streaming.py:224\u001b[0m, in \u001b[0;36mSSEDecoder.iter\u001b[1;34m(self, iterator)\u001b[0m\n\u001b[0;32m    222\u001b[0m \u001b[38;5;28;01mdef\u001b[39;00m \u001b[38;5;21miter\u001b[39m(\u001b[38;5;28mself\u001b[39m, iterator: Iterator[\u001b[38;5;28mstr\u001b[39m]) \u001b[38;5;241m-\u001b[39m\u001b[38;5;241m>\u001b[39m Iterator[ServerSentEvent]:\n\u001b[0;32m    223\u001b[0m \u001b[38;5;250m    \u001b[39m\u001b[38;5;124;03m\"\"\"Given an iterator that yields lines, iterate over it & yield every event encountered\"\"\"\u001b[39;00m\n\u001b[1;32m--> 224\u001b[0m     \u001b[38;5;28;01mfor\u001b[39;00m line \u001b[38;5;129;01min\u001b[39;00m iterator:\n\u001b[0;32m    225\u001b[0m         line \u001b[38;5;241m=\u001b[39m line\u001b[38;5;241m.\u001b[39mrstrip(\u001b[38;5;124m\"\u001b[39m\u001b[38;5;130;01m\\n\u001b[39;00m\u001b[38;5;124m\"\u001b[39m)\n\u001b[0;32m    226\u001b[0m         sse \u001b[38;5;241m=\u001b[39m \u001b[38;5;28mself\u001b[39m\u001b[38;5;241m.\u001b[39mdecode(line)\n",
      "File \u001b[1;32m~\\AppData\\Roaming\\Python\\Python311\\site-packages\\httpx\\_models.py:861\u001b[0m, in \u001b[0;36mResponse.iter_lines\u001b[1;34m(self)\u001b[0m\n\u001b[0;32m    859\u001b[0m decoder \u001b[38;5;241m=\u001b[39m LineDecoder()\n\u001b[0;32m    860\u001b[0m \u001b[38;5;28;01mwith\u001b[39;00m request_context(request\u001b[38;5;241m=\u001b[39m\u001b[38;5;28mself\u001b[39m\u001b[38;5;241m.\u001b[39m_request):\n\u001b[1;32m--> 861\u001b[0m     \u001b[38;5;28;01mfor\u001b[39;00m text \u001b[38;5;129;01min\u001b[39;00m \u001b[38;5;28mself\u001b[39m\u001b[38;5;241m.\u001b[39miter_text():\n\u001b[0;32m    862\u001b[0m         \u001b[38;5;28;01mfor\u001b[39;00m line \u001b[38;5;129;01min\u001b[39;00m decoder\u001b[38;5;241m.\u001b[39mdecode(text):\n\u001b[0;32m    863\u001b[0m             \u001b[38;5;28;01myield\u001b[39;00m line\n",
      "File \u001b[1;32m~\\AppData\\Roaming\\Python\\Python311\\site-packages\\httpx\\_models.py:848\u001b[0m, in \u001b[0;36mResponse.iter_text\u001b[1;34m(self, chunk_size)\u001b[0m\n\u001b[0;32m    846\u001b[0m chunker \u001b[38;5;241m=\u001b[39m TextChunker(chunk_size\u001b[38;5;241m=\u001b[39mchunk_size)\n\u001b[0;32m    847\u001b[0m \u001b[38;5;28;01mwith\u001b[39;00m request_context(request\u001b[38;5;241m=\u001b[39m\u001b[38;5;28mself\u001b[39m\u001b[38;5;241m.\u001b[39m_request):\n\u001b[1;32m--> 848\u001b[0m     \u001b[38;5;28;01mfor\u001b[39;00m byte_content \u001b[38;5;129;01min\u001b[39;00m \u001b[38;5;28mself\u001b[39m\u001b[38;5;241m.\u001b[39miter_bytes():\n\u001b[0;32m    849\u001b[0m         text_content \u001b[38;5;241m=\u001b[39m decoder\u001b[38;5;241m.\u001b[39mdecode(byte_content)\n\u001b[0;32m    850\u001b[0m         \u001b[38;5;28;01mfor\u001b[39;00m chunk \u001b[38;5;129;01min\u001b[39;00m chunker\u001b[38;5;241m.\u001b[39mdecode(text_content):\n",
      "File \u001b[1;32m~\\AppData\\Roaming\\Python\\Python311\\site-packages\\httpx\\_models.py:829\u001b[0m, in \u001b[0;36mResponse.iter_bytes\u001b[1;34m(self, chunk_size)\u001b[0m\n\u001b[0;32m    827\u001b[0m chunker \u001b[38;5;241m=\u001b[39m ByteChunker(chunk_size\u001b[38;5;241m=\u001b[39mchunk_size)\n\u001b[0;32m    828\u001b[0m \u001b[38;5;28;01mwith\u001b[39;00m request_context(request\u001b[38;5;241m=\u001b[39m\u001b[38;5;28mself\u001b[39m\u001b[38;5;241m.\u001b[39m_request):\n\u001b[1;32m--> 829\u001b[0m     \u001b[38;5;28;01mfor\u001b[39;00m raw_bytes \u001b[38;5;129;01min\u001b[39;00m \u001b[38;5;28mself\u001b[39m\u001b[38;5;241m.\u001b[39miter_raw():\n\u001b[0;32m    830\u001b[0m         decoded \u001b[38;5;241m=\u001b[39m decoder\u001b[38;5;241m.\u001b[39mdecode(raw_bytes)\n\u001b[0;32m    831\u001b[0m         \u001b[38;5;28;01mfor\u001b[39;00m chunk \u001b[38;5;129;01min\u001b[39;00m chunker\u001b[38;5;241m.\u001b[39mdecode(decoded):\n",
      "File \u001b[1;32m~\\AppData\\Roaming\\Python\\Python311\\site-packages\\httpx\\_models.py:883\u001b[0m, in \u001b[0;36mResponse.iter_raw\u001b[1;34m(self, chunk_size)\u001b[0m\n\u001b[0;32m    880\u001b[0m chunker \u001b[38;5;241m=\u001b[39m ByteChunker(chunk_size\u001b[38;5;241m=\u001b[39mchunk_size)\n\u001b[0;32m    882\u001b[0m \u001b[38;5;28;01mwith\u001b[39;00m request_context(request\u001b[38;5;241m=\u001b[39m\u001b[38;5;28mself\u001b[39m\u001b[38;5;241m.\u001b[39m_request):\n\u001b[1;32m--> 883\u001b[0m     \u001b[38;5;28;01mfor\u001b[39;00m raw_stream_bytes \u001b[38;5;129;01min\u001b[39;00m \u001b[38;5;28mself\u001b[39m\u001b[38;5;241m.\u001b[39mstream:\n\u001b[0;32m    884\u001b[0m         \u001b[38;5;28mself\u001b[39m\u001b[38;5;241m.\u001b[39m_num_bytes_downloaded \u001b[38;5;241m+\u001b[39m\u001b[38;5;241m=\u001b[39m \u001b[38;5;28mlen\u001b[39m(raw_stream_bytes)\n\u001b[0;32m    885\u001b[0m         \u001b[38;5;28;01mfor\u001b[39;00m chunk \u001b[38;5;129;01min\u001b[39;00m chunker\u001b[38;5;241m.\u001b[39mdecode(raw_stream_bytes):\n",
      "File \u001b[1;32m~\\AppData\\Roaming\\Python\\Python311\\site-packages\\httpx\\_client.py:126\u001b[0m, in \u001b[0;36mBoundSyncStream.__iter__\u001b[1;34m(self)\u001b[0m\n\u001b[0;32m    125\u001b[0m \u001b[38;5;28;01mdef\u001b[39;00m \u001b[38;5;21m__iter__\u001b[39m(\u001b[38;5;28mself\u001b[39m) \u001b[38;5;241m-\u001b[39m\u001b[38;5;241m>\u001b[39m typing\u001b[38;5;241m.\u001b[39mIterator[\u001b[38;5;28mbytes\u001b[39m]:\n\u001b[1;32m--> 126\u001b[0m     \u001b[38;5;28;01mfor\u001b[39;00m chunk \u001b[38;5;129;01min\u001b[39;00m \u001b[38;5;28mself\u001b[39m\u001b[38;5;241m.\u001b[39m_stream:\n\u001b[0;32m    127\u001b[0m         \u001b[38;5;28;01myield\u001b[39;00m chunk\n",
      "File \u001b[1;32m~\\AppData\\Roaming\\Python\\Python311\\site-packages\\httpx\\_transports\\default.py:113\u001b[0m, in \u001b[0;36mResponseStream.__iter__\u001b[1;34m(self)\u001b[0m\n\u001b[0;32m    111\u001b[0m \u001b[38;5;28;01mdef\u001b[39;00m \u001b[38;5;21m__iter__\u001b[39m(\u001b[38;5;28mself\u001b[39m) \u001b[38;5;241m-\u001b[39m\u001b[38;5;241m>\u001b[39m typing\u001b[38;5;241m.\u001b[39mIterator[\u001b[38;5;28mbytes\u001b[39m]:\n\u001b[0;32m    112\u001b[0m     \u001b[38;5;28;01mwith\u001b[39;00m map_httpcore_exceptions():\n\u001b[1;32m--> 113\u001b[0m         \u001b[38;5;28;01mfor\u001b[39;00m part \u001b[38;5;129;01min\u001b[39;00m \u001b[38;5;28mself\u001b[39m\u001b[38;5;241m.\u001b[39m_httpcore_stream:\n\u001b[0;32m    114\u001b[0m             \u001b[38;5;28;01myield\u001b[39;00m part\n",
      "File \u001b[1;32m~\\AppData\\Roaming\\Python\\Python311\\site-packages\\httpcore\\_sync\\connection_pool.py:367\u001b[0m, in \u001b[0;36mPoolByteStream.__iter__\u001b[1;34m(self)\u001b[0m\n\u001b[0;32m    365\u001b[0m \u001b[38;5;28;01mexcept\u001b[39;00m \u001b[38;5;167;01mBaseException\u001b[39;00m \u001b[38;5;28;01mas\u001b[39;00m exc:\n\u001b[0;32m    366\u001b[0m     \u001b[38;5;28mself\u001b[39m\u001b[38;5;241m.\u001b[39mclose()\n\u001b[1;32m--> 367\u001b[0m     \u001b[38;5;28;01mraise\u001b[39;00m exc \u001b[38;5;28;01mfrom\u001b[39;00m \u001b[38;5;28;01mNone\u001b[39;00m\n",
      "File \u001b[1;32m~\\AppData\\Roaming\\Python\\Python311\\site-packages\\httpcore\\_sync\\connection_pool.py:363\u001b[0m, in \u001b[0;36mPoolByteStream.__iter__\u001b[1;34m(self)\u001b[0m\n\u001b[0;32m    361\u001b[0m \u001b[38;5;28;01mdef\u001b[39;00m \u001b[38;5;21m__iter__\u001b[39m(\u001b[38;5;28mself\u001b[39m) \u001b[38;5;241m-\u001b[39m\u001b[38;5;241m>\u001b[39m Iterator[\u001b[38;5;28mbytes\u001b[39m]:\n\u001b[0;32m    362\u001b[0m     \u001b[38;5;28;01mtry\u001b[39;00m:\n\u001b[1;32m--> 363\u001b[0m         \u001b[38;5;28;01mfor\u001b[39;00m part \u001b[38;5;129;01min\u001b[39;00m \u001b[38;5;28mself\u001b[39m\u001b[38;5;241m.\u001b[39m_stream:\n\u001b[0;32m    364\u001b[0m             \u001b[38;5;28;01myield\u001b[39;00m part\n\u001b[0;32m    365\u001b[0m     \u001b[38;5;28;01mexcept\u001b[39;00m \u001b[38;5;167;01mBaseException\u001b[39;00m \u001b[38;5;28;01mas\u001b[39;00m exc:\n",
      "File \u001b[1;32m~\\AppData\\Roaming\\Python\\Python311\\site-packages\\httpcore\\_sync\\http11.py:349\u001b[0m, in \u001b[0;36mHTTP11ConnectionByteStream.__iter__\u001b[1;34m(self)\u001b[0m\n\u001b[0;32m    347\u001b[0m \u001b[38;5;28;01mwith\u001b[39;00m ShieldCancellation():\n\u001b[0;32m    348\u001b[0m     \u001b[38;5;28mself\u001b[39m\u001b[38;5;241m.\u001b[39mclose()\n\u001b[1;32m--> 349\u001b[0m \u001b[38;5;28;01mraise\u001b[39;00m exc\n",
      "File \u001b[1;32m~\\AppData\\Roaming\\Python\\Python311\\site-packages\\httpcore\\_sync\\http11.py:341\u001b[0m, in \u001b[0;36mHTTP11ConnectionByteStream.__iter__\u001b[1;34m(self)\u001b[0m\n\u001b[0;32m    339\u001b[0m \u001b[38;5;28;01mtry\u001b[39;00m:\n\u001b[0;32m    340\u001b[0m     \u001b[38;5;28;01mwith\u001b[39;00m Trace(\u001b[38;5;124m\"\u001b[39m\u001b[38;5;124mreceive_response_body\u001b[39m\u001b[38;5;124m\"\u001b[39m, logger, \u001b[38;5;28mself\u001b[39m\u001b[38;5;241m.\u001b[39m_request, kwargs):\n\u001b[1;32m--> 341\u001b[0m         \u001b[38;5;28;01mfor\u001b[39;00m chunk \u001b[38;5;129;01min\u001b[39;00m \u001b[38;5;28mself\u001b[39m\u001b[38;5;241m.\u001b[39m_connection\u001b[38;5;241m.\u001b[39m_receive_response_body(\u001b[38;5;241m*\u001b[39m\u001b[38;5;241m*\u001b[39mkwargs):\n\u001b[0;32m    342\u001b[0m             \u001b[38;5;28;01myield\u001b[39;00m chunk\n\u001b[0;32m    343\u001b[0m \u001b[38;5;28;01mexcept\u001b[39;00m \u001b[38;5;167;01mBaseException\u001b[39;00m \u001b[38;5;28;01mas\u001b[39;00m exc:\n\u001b[0;32m    344\u001b[0m     \u001b[38;5;66;03m# If we get an exception while streaming the response,\u001b[39;00m\n\u001b[0;32m    345\u001b[0m     \u001b[38;5;66;03m# we want to close the response (and possibly the connection)\u001b[39;00m\n\u001b[0;32m    346\u001b[0m     \u001b[38;5;66;03m# before raising that exception.\u001b[39;00m\n",
      "File \u001b[1;32m~\\AppData\\Roaming\\Python\\Python311\\site-packages\\httpcore\\_sync\\http11.py:210\u001b[0m, in \u001b[0;36mHTTP11Connection._receive_response_body\u001b[1;34m(self, request)\u001b[0m\n\u001b[0;32m    207\u001b[0m timeout \u001b[38;5;241m=\u001b[39m timeouts\u001b[38;5;241m.\u001b[39mget(\u001b[38;5;124m\"\u001b[39m\u001b[38;5;124mread\u001b[39m\u001b[38;5;124m\"\u001b[39m, \u001b[38;5;28;01mNone\u001b[39;00m)\n\u001b[0;32m    209\u001b[0m \u001b[38;5;28;01mwhile\u001b[39;00m \u001b[38;5;28;01mTrue\u001b[39;00m:\n\u001b[1;32m--> 210\u001b[0m     event \u001b[38;5;241m=\u001b[39m \u001b[38;5;28mself\u001b[39m\u001b[38;5;241m.\u001b[39m_receive_event(timeout\u001b[38;5;241m=\u001b[39mtimeout)\n\u001b[0;32m    211\u001b[0m     \u001b[38;5;28;01mif\u001b[39;00m \u001b[38;5;28misinstance\u001b[39m(event, h11\u001b[38;5;241m.\u001b[39mData):\n\u001b[0;32m    212\u001b[0m         \u001b[38;5;28;01myield\u001b[39;00m \u001b[38;5;28mbytes\u001b[39m(event\u001b[38;5;241m.\u001b[39mdata)\n",
      "File \u001b[1;32m~\\AppData\\Roaming\\Python\\Python311\\site-packages\\httpcore\\_sync\\http11.py:224\u001b[0m, in \u001b[0;36mHTTP11Connection._receive_event\u001b[1;34m(self, timeout)\u001b[0m\n\u001b[0;32m    221\u001b[0m     event \u001b[38;5;241m=\u001b[39m \u001b[38;5;28mself\u001b[39m\u001b[38;5;241m.\u001b[39m_h11_state\u001b[38;5;241m.\u001b[39mnext_event()\n\u001b[0;32m    223\u001b[0m \u001b[38;5;28;01mif\u001b[39;00m event \u001b[38;5;129;01mis\u001b[39;00m h11\u001b[38;5;241m.\u001b[39mNEED_DATA:\n\u001b[1;32m--> 224\u001b[0m     data \u001b[38;5;241m=\u001b[39m \u001b[38;5;28mself\u001b[39m\u001b[38;5;241m.\u001b[39m_network_stream\u001b[38;5;241m.\u001b[39mread(\n\u001b[0;32m    225\u001b[0m         \u001b[38;5;28mself\u001b[39m\u001b[38;5;241m.\u001b[39mREAD_NUM_BYTES, timeout\u001b[38;5;241m=\u001b[39mtimeout\n\u001b[0;32m    226\u001b[0m     )\n\u001b[0;32m    228\u001b[0m     \u001b[38;5;66;03m# If we feed this case through h11 we'll raise an exception like:\u001b[39;00m\n\u001b[0;32m    229\u001b[0m     \u001b[38;5;66;03m#\u001b[39;00m\n\u001b[0;32m    230\u001b[0m     \u001b[38;5;66;03m#     httpcore.RemoteProtocolError: can't handle event type\u001b[39;00m\n\u001b[1;32m   (...)\u001b[0m\n\u001b[0;32m    234\u001b[0m     \u001b[38;5;66;03m# perspective. Instead we handle this case distinctly and treat\u001b[39;00m\n\u001b[0;32m    235\u001b[0m     \u001b[38;5;66;03m# it as a ConnectError.\u001b[39;00m\n\u001b[0;32m    236\u001b[0m     \u001b[38;5;28;01mif\u001b[39;00m data \u001b[38;5;241m==\u001b[39m \u001b[38;5;124mb\u001b[39m\u001b[38;5;124m\"\u001b[39m\u001b[38;5;124m\"\u001b[39m \u001b[38;5;129;01mand\u001b[39;00m \u001b[38;5;28mself\u001b[39m\u001b[38;5;241m.\u001b[39m_h11_state\u001b[38;5;241m.\u001b[39mtheir_state \u001b[38;5;241m==\u001b[39m h11\u001b[38;5;241m.\u001b[39mSEND_RESPONSE:\n",
      "File \u001b[1;32m~\\AppData\\Roaming\\Python\\Python311\\site-packages\\httpcore\\_backends\\sync.py:126\u001b[0m, in \u001b[0;36mSyncStream.read\u001b[1;34m(self, max_bytes, timeout)\u001b[0m\n\u001b[0;32m    124\u001b[0m \u001b[38;5;28;01mwith\u001b[39;00m map_exceptions(exc_map):\n\u001b[0;32m    125\u001b[0m     \u001b[38;5;28mself\u001b[39m\u001b[38;5;241m.\u001b[39m_sock\u001b[38;5;241m.\u001b[39msettimeout(timeout)\n\u001b[1;32m--> 126\u001b[0m     \u001b[38;5;28;01mreturn\u001b[39;00m \u001b[38;5;28mself\u001b[39m\u001b[38;5;241m.\u001b[39m_sock\u001b[38;5;241m.\u001b[39mrecv(max_bytes)\n",
      "\u001b[1;31mKeyboardInterrupt\u001b[0m: "
     ]
    }
   ],
   "source": [
    "import re\n",
    "text = \"\"\n",
    "for chunk in response:\n",
    "    if chunk.choices[0].delta.content is not None:\n",
    "\n",
    "        print(chunk.choices[0].delta.content, end=\"\")\n",
    "\n",
    "        if re.findall(r\"```(?:\\n)?(?:python)?(.*?)```\", text, re.DOTALL) or\\\n",
    "            \"__name__ ==\" in text:\n",
    "            break\n",
    "        # text = text + chunk.choices[0].delta.content\n",
    "\n",
    "\n",
    "# print(text)"
   ]
  },
  {
   "cell_type": "code",
   "execution_count": 36,
   "metadata": {},
   "outputs": [
    {
     "name": "stdout",
     "output_type": "stream",
     "text": [
      "\"\"\"\n",
      "\n",
      "def add_numbers(a: int, b: int) -> int:\n",
      "    return a + b\n",
      "\n",
      "# Test the function with some examples\n",
      "print(add_numbers(2, 3)) # Output: 5\n",
      "print(add_numbers(5, 7)) # Output: 12\n",
      "print(add_numbers(-2, 8)) # Output: 6\n",
      "print(add_numbers(0, 0)) # Output: 0 \n"
     ]
    }
   ],
   "source": [
    "print(response.choices[1].message.content)"
   ]
  },
  {
   "cell_type": "code",
   "execution_count": null,
   "metadata": {},
   "outputs": [],
   "source": [
    "\n"
   ]
  },
  {
   "cell_type": "code",
   "execution_count": null,
   "metadata": {},
   "outputs": [],
   "source": []
  }
 ],
 "metadata": {
  "kernelspec": {
   "display_name": "base",
   "language": "python",
   "name": "python3"
  },
  "language_info": {
   "codemirror_mode": {
    "name": "ipython",
    "version": 3
   },
   "file_extension": ".py",
   "mimetype": "text/x-python",
   "name": "python",
   "nbconvert_exporter": "python",
   "pygments_lexer": "ipython3",
   "version": "3.11.5"
  }
 },
 "nbformat": 4,
 "nbformat_minor": 2
}
